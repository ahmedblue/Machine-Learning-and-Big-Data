{
 "cells": [
  {
   "cell_type": "markdown",
   "metadata": {},
   "source": [
    "# Imports"
   ]
  },
  {
   "cell_type": "code",
   "execution_count": 24,
   "metadata": {},
   "outputs": [],
   "source": [
    "import pandas as pd\n",
    "from sklearn.preprocessing import OneHotEncoder\n",
    "from sklearn.model_selection import train_test_split\n",
    "import numpy as np\n",
    "from sklearn.ensemble import GradientBoostingClassifier\n",
    "from sklearn.impute import SimpleImputer\n",
    "from sklearn import tree\n",
    "from sklearn.metrics import accuracy_score\n",
    "import matplotlib.pyplot as plt\n",
    "from sklearn.svm import SVC\n",
    "from sklearn.metrics import RocCurveDisplay\n",
    "from sklearn.metrics import plot_confusion_matrix\n",
    "from sklearn.linear_model import LogisticRegression\n",
    "from sklearn.metrics import f1_score\n",
    "from sklearn.ensemble import RandomForestClassifier\n",
    "from sklearn import preprocessing\n",
    "scaler = preprocessing.MinMaxScaler()\n",
    "\n",
    "# Data Read\n",
    "df = pd.read_csv(\"DataFinal.csv\")"
   ]
  },
  {
   "cell_type": "markdown",
   "metadata": {},
   "source": [
    "## EDA"
   ]
  },
  {
   "cell_type": "code",
   "execution_count": 25,
   "metadata": {},
   "outputs": [
    {
     "data": {
      "text/html": [
       "<style type=\"text/css\">\n",
       "#T_d0966_row0_col0, #T_d0966_row1_col1, #T_d0966_row2_col2, #T_d0966_row3_col3, #T_d0966_row4_col4, #T_d0966_row5_col5, #T_d0966_row6_col6, #T_d0966_row7_col7, #T_d0966_row8_col8, #T_d0966_row9_col9, #T_d0966_row10_col10, #T_d0966_row11_col11 {\n",
       "  background-color: #800026;\n",
       "  color: #f1f1f1;\n",
       "}\n",
       "#T_d0966_row0_col1, #T_d0966_row0_col5, #T_d0966_row2_col4, #T_d0966_row4_col0, #T_d0966_row4_col2, #T_d0966_row5_col3, #T_d0966_row5_col6, #T_d0966_row10_col7, #T_d0966_row10_col8, #T_d0966_row10_col11, #T_d0966_row11_col9, #T_d0966_row11_col10 {\n",
       "  background-color: #ffffcc;\n",
       "  color: #000000;\n",
       "}\n",
       "#T_d0966_row0_col2, #T_d0966_row1_col7, #T_d0966_row7_col4 {\n",
       "  background-color: #fff3af;\n",
       "  color: #000000;\n",
       "}\n",
       "#T_d0966_row0_col3, #T_d0966_row0_col6, #T_d0966_row1_col0, #T_d0966_row2_col3, #T_d0966_row6_col5 {\n",
       "  background-color: #fffec9;\n",
       "  color: #000000;\n",
       "}\n",
       "#T_d0966_row0_col4, #T_d0966_row4_col3, #T_d0966_row4_col6, #T_d0966_row4_col8, #T_d0966_row8_col3, #T_d0966_row11_col1 {\n",
       "  background-color: #fffdc6;\n",
       "  color: #000000;\n",
       "}\n",
       "#T_d0966_row0_col7, #T_d0966_row1_col6, #T_d0966_row3_col9, #T_d0966_row7_col0, #T_d0966_row11_col8 {\n",
       "  background-color: #fff7b9;\n",
       "  color: #000000;\n",
       "}\n",
       "#T_d0966_row0_col8, #T_d0966_row3_col5, #T_d0966_row3_col8, #T_d0966_row5_col0, #T_d0966_row7_col8 {\n",
       "  background-color: #fffdc8;\n",
       "  color: #000000;\n",
       "}\n",
       "#T_d0966_row0_col9, #T_d0966_row9_col0, #T_d0966_row10_col5, #T_d0966_row11_col3 {\n",
       "  background-color: #fffcc5;\n",
       "  color: #000000;\n",
       "}\n",
       "#T_d0966_row0_col10, #T_d0966_row5_col10, #T_d0966_row5_col11 {\n",
       "  background-color: #fed774;\n",
       "  color: #000000;\n",
       "}\n",
       "#T_d0966_row0_col11, #T_d0966_row1_col10, #T_d0966_row4_col10 {\n",
       "  background-color: #fed673;\n",
       "  color: #000000;\n",
       "}\n",
       "#T_d0966_row1_col2, #T_d0966_row9_col2 {\n",
       "  background-color: #fff2ac;\n",
       "  color: #000000;\n",
       "}\n",
       "#T_d0966_row1_col3, #T_d0966_row2_col6, #T_d0966_row3_col4, #T_d0966_row4_col9, #T_d0966_row6_col4, #T_d0966_row6_col9, #T_d0966_row8_col4, #T_d0966_row10_col4, #T_d0966_row10_col6 {\n",
       "  background-color: #fff7b7;\n",
       "  color: #000000;\n",
       "}\n",
       "#T_d0966_row1_col4, #T_d0966_row2_col7, #T_d0966_row5_col1, #T_d0966_row5_col7 {\n",
       "  background-color: #fff8bb;\n",
       "  color: #000000;\n",
       "}\n",
       "#T_d0966_row1_col5, #T_d0966_row10_col3 {\n",
       "  background-color: #fff9bd;\n",
       "  color: #000000;\n",
       "}\n",
       "#T_d0966_row1_col8, #T_d0966_row2_col9, #T_d0966_row3_col1, #T_d0966_row7_col1, #T_d0966_row9_col4 {\n",
       "  background-color: #fff4b2;\n",
       "  color: #000000;\n",
       "}\n",
       "#T_d0966_row1_col9, #T_d0966_row8_col0, #T_d0966_row8_col7, #T_d0966_row9_col7, #T_d0966_row10_col0, #T_d0966_row11_col0 {\n",
       "  background-color: #fff9be;\n",
       "  color: #000000;\n",
       "}\n",
       "#T_d0966_row1_col11 {\n",
       "  background-color: #feda78;\n",
       "  color: #000000;\n",
       "}\n",
       "#T_d0966_row2_col0, #T_d0966_row2_col1, #T_d0966_row5_col4 {\n",
       "  background-color: #fff5b5;\n",
       "  color: #000000;\n",
       "}\n",
       "#T_d0966_row2_col5, #T_d0966_row6_col0, #T_d0966_row7_col5, #T_d0966_row8_col6, #T_d0966_row9_col1, #T_d0966_row10_col1, #T_d0966_row10_col2 {\n",
       "  background-color: #fffac1;\n",
       "  color: #000000;\n",
       "}\n",
       "#T_d0966_row2_col8, #T_d0966_row4_col7, #T_d0966_row6_col1 {\n",
       "  background-color: #fff5b3;\n",
       "  color: #000000;\n",
       "}\n",
       "#T_d0966_row2_col10 {\n",
       "  background-color: #fedb7a;\n",
       "  color: #000000;\n",
       "}\n",
       "#T_d0966_row2_col11 {\n",
       "  background-color: #fec15d;\n",
       "  color: #000000;\n",
       "}\n",
       "#T_d0966_row3_col0, #T_d0966_row3_col6, #T_d0966_row4_col5, #T_d0966_row5_col8, #T_d0966_row6_col3, #T_d0966_row7_col9, #T_d0966_row9_col6 {\n",
       "  background-color: #fffac0;\n",
       "  color: #000000;\n",
       "}\n",
       "#T_d0966_row3_col2, #T_d0966_row3_col7, #T_d0966_row8_col5, #T_d0966_row8_col9 {\n",
       "  background-color: #fff8ba;\n",
       "  color: #000000;\n",
       "}\n",
       "#T_d0966_row3_col10 {\n",
       "  background-color: #fecf6b;\n",
       "  color: #000000;\n",
       "}\n",
       "#T_d0966_row3_col11 {\n",
       "  background-color: #fed572;\n",
       "  color: #000000;\n",
       "}\n",
       "#T_d0966_row4_col1, #T_d0966_row7_col3, #T_d0966_row9_col8, #T_d0966_row10_col9, #T_d0966_row11_col5 {\n",
       "  background-color: #fffcc4;\n",
       "  color: #000000;\n",
       "}\n",
       "#T_d0966_row4_col11 {\n",
       "  background-color: #fead4a;\n",
       "  color: #000000;\n",
       "}\n",
       "#T_d0966_row5_col2, #T_d0966_row7_col2 {\n",
       "  background-color: #fff6b6;\n",
       "  color: #000000;\n",
       "}\n",
       "#T_d0966_row5_col9, #T_d0966_row6_col2 {\n",
       "  background-color: #fff1a9;\n",
       "  color: #000000;\n",
       "}\n",
       "#T_d0966_row6_col7 {\n",
       "  background-color: #ffeea3;\n",
       "  color: #000000;\n",
       "}\n",
       "#T_d0966_row6_col8, #T_d0966_row9_col3, #T_d0966_row11_col6 {\n",
       "  background-color: #fffbc2;\n",
       "  color: #000000;\n",
       "}\n",
       "#T_d0966_row6_col10, #T_d0966_row8_col11 {\n",
       "  background-color: #fecc68;\n",
       "  color: #000000;\n",
       "}\n",
       "#T_d0966_row6_col11 {\n",
       "  background-color: #fed470;\n",
       "  color: #000000;\n",
       "}\n",
       "#T_d0966_row7_col6, #T_d0966_row8_col1 {\n",
       "  background-color: #fff1ab;\n",
       "  color: #000000;\n",
       "}\n",
       "#T_d0966_row7_col10, #T_d0966_row9_col11 {\n",
       "  background-color: #fedd7f;\n",
       "  color: #000000;\n",
       "}\n",
       "#T_d0966_row7_col11 {\n",
       "  background-color: #feb651;\n",
       "  color: #000000;\n",
       "}\n",
       "#T_d0966_row8_col2 {\n",
       "  background-color: #ffefa4;\n",
       "  color: #000000;\n",
       "}\n",
       "#T_d0966_row8_col10, #T_d0966_row9_col10 {\n",
       "  background-color: #fed977;\n",
       "  color: #000000;\n",
       "}\n",
       "#T_d0966_row9_col5 {\n",
       "  background-color: #fff3ae;\n",
       "  color: #000000;\n",
       "}\n",
       "#T_d0966_row11_col2 {\n",
       "  background-color: #ffea99;\n",
       "  color: #000000;\n",
       "}\n",
       "#T_d0966_row11_col4 {\n",
       "  background-color: #fedd7e;\n",
       "  color: #000000;\n",
       "}\n",
       "#T_d0966_row11_col7 {\n",
       "  background-color: #ffe58f;\n",
       "  color: #000000;\n",
       "}\n",
       "</style>\n",
       "<table id=\"T_d0966_\">\n",
       "  <thead>\n",
       "    <tr>\n",
       "      <th class=\"blank level0\" >&nbsp;</th>\n",
       "      <th class=\"col_heading level0 col0\" >Feat0</th>\n",
       "      <th class=\"col_heading level0 col1\" >Feat1</th>\n",
       "      <th class=\"col_heading level0 col2\" >Feat2</th>\n",
       "      <th class=\"col_heading level0 col3\" >Feat4</th>\n",
       "      <th class=\"col_heading level0 col4\" >Feat5</th>\n",
       "      <th class=\"col_heading level0 col5\" >Feat6</th>\n",
       "      <th class=\"col_heading level0 col6\" >Feat7</th>\n",
       "      <th class=\"col_heading level0 col7\" >Feat8</th>\n",
       "      <th class=\"col_heading level0 col8\" >Feat9</th>\n",
       "      <th class=\"col_heading level0 col9\" >Feat10</th>\n",
       "      <th class=\"col_heading level0 col10\" >Feat11</th>\n",
       "      <th class=\"col_heading level0 col11\" >PotentialBuyerHyperCrypto</th>\n",
       "    </tr>\n",
       "  </thead>\n",
       "  <tbody>\n",
       "    <tr>\n",
       "      <th id=\"T_d0966_level0_row0\" class=\"row_heading level0 row0\" >Feat0</th>\n",
       "      <td id=\"T_d0966_row0_col0\" class=\"data row0 col0\" >1.000000</td>\n",
       "      <td id=\"T_d0966_row0_col1\" class=\"data row0 col1\" >-0.039633</td>\n",
       "      <td id=\"T_d0966_row0_col2\" class=\"data row0 col2\" >0.023859</td>\n",
       "      <td id=\"T_d0966_row0_col3\" class=\"data row0 col3\" >-0.008923</td>\n",
       "      <td id=\"T_d0966_row0_col4\" class=\"data row0 col4\" >-0.049049</td>\n",
       "      <td id=\"T_d0966_row0_col5\" class=\"data row0 col5\" >-0.033220</td>\n",
       "      <td id=\"T_d0966_row0_col6\" class=\"data row0 col6\" >-0.012455</td>\n",
       "      <td id=\"T_d0966_row0_col7\" class=\"data row0 col7\" >0.009814</td>\n",
       "      <td id=\"T_d0966_row0_col8\" class=\"data row0 col8\" >-0.007110</td>\n",
       "      <td id=\"T_d0966_row0_col9\" class=\"data row0 col9\" >-0.028196</td>\n",
       "      <td id=\"T_d0966_row0_col10\" class=\"data row0 col10\" >-0.006155</td>\n",
       "      <td id=\"T_d0966_row0_col11\" class=\"data row0 col11\" >-0.005293</td>\n",
       "    </tr>\n",
       "    <tr>\n",
       "      <th id=\"T_d0966_level0_row1\" class=\"row_heading level0 row1\" >Feat1</th>\n",
       "      <td id=\"T_d0966_row1_col0\" class=\"data row1 col0\" >-0.039633</td>\n",
       "      <td id=\"T_d0966_row1_col1\" class=\"data row1 col1\" >1.000000</td>\n",
       "      <td id=\"T_d0966_row1_col2\" class=\"data row1 col2\" >0.030277</td>\n",
       "      <td id=\"T_d0966_row1_col3\" class=\"data row1 col3\" >0.040114</td>\n",
       "      <td id=\"T_d0966_row1_col4\" class=\"data row1 col4\" >-0.013127</td>\n",
       "      <td id=\"T_d0966_row1_col5\" class=\"data row1 col5\" >0.012844</td>\n",
       "      <td id=\"T_d0966_row1_col6\" class=\"data row1 col6\" >0.036842</td>\n",
       "      <td id=\"T_d0966_row1_col7\" class=\"data row1 col7\" >0.037912</td>\n",
       "      <td id=\"T_d0966_row1_col8\" class=\"data row1 col8\" >0.057861</td>\n",
       "      <td id=\"T_d0966_row1_col9\" class=\"data row1 col9\" >-0.007072</td>\n",
       "      <td id=\"T_d0966_row1_col10\" class=\"data row1 col10\" >-0.005147</td>\n",
       "      <td id=\"T_d0966_row1_col11\" class=\"data row1 col11\" >-0.022530</td>\n",
       "    </tr>\n",
       "    <tr>\n",
       "      <th id=\"T_d0966_level0_row2\" class=\"row_heading level0 row2\" >Feat2</th>\n",
       "      <td id=\"T_d0966_row2_col0\" class=\"data row2 col0\" >0.023859</td>\n",
       "      <td id=\"T_d0966_row2_col1\" class=\"data row2 col1\" >0.030277</td>\n",
       "      <td id=\"T_d0966_row2_col2\" class=\"data row2 col2\" >1.000000</td>\n",
       "      <td id=\"T_d0966_row2_col3\" class=\"data row2 col3\" >-0.008627</td>\n",
       "      <td id=\"T_d0966_row2_col4\" class=\"data row2 col4\" >-0.066468</td>\n",
       "      <td id=\"T_d0966_row2_col5\" class=\"data row2 col5\" >0.000760</td>\n",
       "      <td id=\"T_d0966_row2_col6\" class=\"data row2 col6\" >0.040986</td>\n",
       "      <td id=\"T_d0966_row2_col7\" class=\"data row2 col7\" >0.000473</td>\n",
       "      <td id=\"T_d0966_row2_col8\" class=\"data row2 col8\" >0.055493</td>\n",
       "      <td id=\"T_d0966_row2_col9\" class=\"data row2 col9\" >0.031602</td>\n",
       "      <td id=\"T_d0966_row2_col10\" class=\"data row2 col10\" >-0.029780</td>\n",
       "      <td id=\"T_d0966_row2_col11\" class=\"data row2 col11\" >0.089447</td>\n",
       "    </tr>\n",
       "    <tr>\n",
       "      <th id=\"T_d0966_level0_row3\" class=\"row_heading level0 row3\" >Feat4</th>\n",
       "      <td id=\"T_d0966_row3_col0\" class=\"data row3 col0\" >-0.008923</td>\n",
       "      <td id=\"T_d0966_row3_col1\" class=\"data row3 col1\" >0.040114</td>\n",
       "      <td id=\"T_d0966_row3_col2\" class=\"data row3 col2\" >-0.008627</td>\n",
       "      <td id=\"T_d0966_row3_col3\" class=\"data row3 col3\" >1.000000</td>\n",
       "      <td id=\"T_d0966_row3_col4\" class=\"data row3 col4\" >-0.001045</td>\n",
       "      <td id=\"T_d0966_row3_col5\" class=\"data row3 col5\" >-0.020325</td>\n",
       "      <td id=\"T_d0966_row3_col6\" class=\"data row3 col6\" >0.016779</td>\n",
       "      <td id=\"T_d0966_row3_col7\" class=\"data row3 col7\" >0.004448</td>\n",
       "      <td id=\"T_d0966_row3_col8\" class=\"data row3 col8\" >-0.003903</td>\n",
       "      <td id=\"T_d0966_row3_col9\" class=\"data row3 col9\" >0.008604</td>\n",
       "      <td id=\"T_d0966_row3_col10\" class=\"data row3 col10\" >0.026306</td>\n",
       "      <td id=\"T_d0966_row3_col11\" class=\"data row3 col11\" >0.000959</td>\n",
       "    </tr>\n",
       "    <tr>\n",
       "      <th id=\"T_d0966_level0_row4\" class=\"row_heading level0 row4\" >Feat5</th>\n",
       "      <td id=\"T_d0966_row4_col0\" class=\"data row4 col0\" >-0.049049</td>\n",
       "      <td id=\"T_d0966_row4_col1\" class=\"data row4 col1\" >-0.013127</td>\n",
       "      <td id=\"T_d0966_row4_col2\" class=\"data row4 col2\" >-0.066468</td>\n",
       "      <td id=\"T_d0966_row4_col3\" class=\"data row4 col3\" >-0.001045</td>\n",
       "      <td id=\"T_d0966_row4_col4\" class=\"data row4 col4\" >1.000000</td>\n",
       "      <td id=\"T_d0966_row4_col5\" class=\"data row4 col5\" >0.004424</td>\n",
       "      <td id=\"T_d0966_row4_col6\" class=\"data row4 col6\" >-0.002935</td>\n",
       "      <td id=\"T_d0966_row4_col7\" class=\"data row4 col7\" >0.023419</td>\n",
       "      <td id=\"T_d0966_row4_col8\" class=\"data row4 col8\" >-0.001186</td>\n",
       "      <td id=\"T_d0966_row4_col9\" class=\"data row4 col9\" >0.015454</td>\n",
       "      <td id=\"T_d0966_row4_col10\" class=\"data row4 col10\" >-0.000754</td>\n",
       "      <td id=\"T_d0966_row4_col11\" class=\"data row4 col11\" >0.176224</td>\n",
       "    </tr>\n",
       "    <tr>\n",
       "      <th id=\"T_d0966_level0_row5\" class=\"row_heading level0 row5\" >Feat6</th>\n",
       "      <td id=\"T_d0966_row5_col0\" class=\"data row5 col0\" >-0.033220</td>\n",
       "      <td id=\"T_d0966_row5_col1\" class=\"data row5 col1\" >0.012844</td>\n",
       "      <td id=\"T_d0966_row5_col2\" class=\"data row5 col2\" >0.000760</td>\n",
       "      <td id=\"T_d0966_row5_col3\" class=\"data row5 col3\" >-0.020325</td>\n",
       "      <td id=\"T_d0966_row5_col4\" class=\"data row5 col4\" >0.004424</td>\n",
       "      <td id=\"T_d0966_row5_col5\" class=\"data row5 col5\" >1.000000</td>\n",
       "      <td id=\"T_d0966_row5_col6\" class=\"data row5 col6\" >-0.022646</td>\n",
       "      <td id=\"T_d0966_row5_col7\" class=\"data row5 col7\" >-0.000322</td>\n",
       "      <td id=\"T_d0966_row5_col8\" class=\"data row5 col8\" >0.019584</td>\n",
       "      <td id=\"T_d0966_row5_col9\" class=\"data row5 col9\" >0.055929</td>\n",
       "      <td id=\"T_d0966_row5_col10\" class=\"data row5 col10\" >-0.010669</td>\n",
       "      <td id=\"T_d0966_row5_col11\" class=\"data row5 col11\" >-0.007358</td>\n",
       "    </tr>\n",
       "    <tr>\n",
       "      <th id=\"T_d0966_level0_row6\" class=\"row_heading level0 row6\" >Feat7</th>\n",
       "      <td id=\"T_d0966_row6_col0\" class=\"data row6 col0\" >-0.012455</td>\n",
       "      <td id=\"T_d0966_row6_col1\" class=\"data row6 col1\" >0.036842</td>\n",
       "      <td id=\"T_d0966_row6_col2\" class=\"data row6 col2\" >0.040986</td>\n",
       "      <td id=\"T_d0966_row6_col3\" class=\"data row6 col3\" >0.016779</td>\n",
       "      <td id=\"T_d0966_row6_col4\" class=\"data row6 col4\" >-0.002935</td>\n",
       "      <td id=\"T_d0966_row6_col5\" class=\"data row6 col5\" >-0.022646</td>\n",
       "      <td id=\"T_d0966_row6_col6\" class=\"data row6 col6\" >1.000000</td>\n",
       "      <td id=\"T_d0966_row6_col7\" class=\"data row6 col7\" >0.074500</td>\n",
       "      <td id=\"T_d0966_row6_col8\" class=\"data row6 col8\" >0.010640</td>\n",
       "      <td id=\"T_d0966_row6_col9\" class=\"data row6 col9\" >0.013763</td>\n",
       "      <td id=\"T_d0966_row6_col10\" class=\"data row6 col10\" >0.037763</td>\n",
       "      <td id=\"T_d0966_row6_col11\" class=\"data row6 col11\" >0.005495</td>\n",
       "    </tr>\n",
       "    <tr>\n",
       "      <th id=\"T_d0966_level0_row7\" class=\"row_heading level0 row7\" >Feat8</th>\n",
       "      <td id=\"T_d0966_row7_col0\" class=\"data row7 col0\" >0.009814</td>\n",
       "      <td id=\"T_d0966_row7_col1\" class=\"data row7 col1\" >0.037912</td>\n",
       "      <td id=\"T_d0966_row7_col2\" class=\"data row7 col2\" >0.000473</td>\n",
       "      <td id=\"T_d0966_row7_col3\" class=\"data row7 col3\" >0.004448</td>\n",
       "      <td id=\"T_d0966_row7_col4\" class=\"data row7 col4\" >0.023419</td>\n",
       "      <td id=\"T_d0966_row7_col5\" class=\"data row7 col5\" >-0.000322</td>\n",
       "      <td id=\"T_d0966_row7_col6\" class=\"data row7 col6\" >0.074500</td>\n",
       "      <td id=\"T_d0966_row7_col7\" class=\"data row7 col7\" >1.000000</td>\n",
       "      <td id=\"T_d0966_row7_col8\" class=\"data row7 col8\" >-0.007284</td>\n",
       "      <td id=\"T_d0966_row7_col9\" class=\"data row7 col9\" >-0.009235</td>\n",
       "      <td id=\"T_d0966_row7_col10\" class=\"data row7 col10\" >-0.051229</td>\n",
       "      <td id=\"T_d0966_row7_col11\" class=\"data row7 col11\" >0.134106</td>\n",
       "    </tr>\n",
       "    <tr>\n",
       "      <th id=\"T_d0966_level0_row8\" class=\"row_heading level0 row8\" >Feat9</th>\n",
       "      <td id=\"T_d0966_row8_col0\" class=\"data row8 col0\" >-0.007110</td>\n",
       "      <td id=\"T_d0966_row8_col1\" class=\"data row8 col1\" >0.057861</td>\n",
       "      <td id=\"T_d0966_row8_col2\" class=\"data row8 col2\" >0.055493</td>\n",
       "      <td id=\"T_d0966_row8_col3\" class=\"data row8 col3\" >-0.003903</td>\n",
       "      <td id=\"T_d0966_row8_col4\" class=\"data row8 col4\" >-0.001186</td>\n",
       "      <td id=\"T_d0966_row8_col5\" class=\"data row8 col5\" >0.019584</td>\n",
       "      <td id=\"T_d0966_row8_col6\" class=\"data row8 col6\" >0.010640</td>\n",
       "      <td id=\"T_d0966_row8_col7\" class=\"data row8 col7\" >-0.007284</td>\n",
       "      <td id=\"T_d0966_row8_col8\" class=\"data row8 col8\" >1.000000</td>\n",
       "      <td id=\"T_d0966_row8_col9\" class=\"data row8 col9\" >0.006097</td>\n",
       "      <td id=\"T_d0966_row8_col10\" class=\"data row8 col10\" >-0.019686</td>\n",
       "      <td id=\"T_d0966_row8_col11\" class=\"data row8 col11\" >0.039892</td>\n",
       "    </tr>\n",
       "    <tr>\n",
       "      <th id=\"T_d0966_level0_row9\" class=\"row_heading level0 row9\" >Feat10</th>\n",
       "      <td id=\"T_d0966_row9_col0\" class=\"data row9 col0\" >-0.028196</td>\n",
       "      <td id=\"T_d0966_row9_col1\" class=\"data row9 col1\" >-0.007072</td>\n",
       "      <td id=\"T_d0966_row9_col2\" class=\"data row9 col2\" >0.031602</td>\n",
       "      <td id=\"T_d0966_row9_col3\" class=\"data row9 col3\" >0.008604</td>\n",
       "      <td id=\"T_d0966_row9_col4\" class=\"data row9 col4\" >0.015454</td>\n",
       "      <td id=\"T_d0966_row9_col5\" class=\"data row9 col5\" >0.055929</td>\n",
       "      <td id=\"T_d0966_row9_col6\" class=\"data row9 col6\" >0.013763</td>\n",
       "      <td id=\"T_d0966_row9_col7\" class=\"data row9 col7\" >-0.009235</td>\n",
       "      <td id=\"T_d0966_row9_col8\" class=\"data row9 col8\" >0.006097</td>\n",
       "      <td id=\"T_d0966_row9_col9\" class=\"data row9 col9\" >1.000000</td>\n",
       "      <td id=\"T_d0966_row9_col10\" class=\"data row9 col10\" >-0.021014</td>\n",
       "      <td id=\"T_d0966_row9_col11\" class=\"data row9 col11\" >-0.049023</td>\n",
       "    </tr>\n",
       "    <tr>\n",
       "      <th id=\"T_d0966_level0_row10\" class=\"row_heading level0 row10\" >Feat11</th>\n",
       "      <td id=\"T_d0966_row10_col0\" class=\"data row10 col0\" >-0.006155</td>\n",
       "      <td id=\"T_d0966_row10_col1\" class=\"data row10 col1\" >-0.005147</td>\n",
       "      <td id=\"T_d0966_row10_col2\" class=\"data row10 col2\" >-0.029780</td>\n",
       "      <td id=\"T_d0966_row10_col3\" class=\"data row10 col3\" >0.026306</td>\n",
       "      <td id=\"T_d0966_row10_col4\" class=\"data row10 col4\" >-0.000754</td>\n",
       "      <td id=\"T_d0966_row10_col5\" class=\"data row10 col5\" >-0.010669</td>\n",
       "      <td id=\"T_d0966_row10_col6\" class=\"data row10 col6\" >0.037763</td>\n",
       "      <td id=\"T_d0966_row10_col7\" class=\"data row10 col7\" >-0.051229</td>\n",
       "      <td id=\"T_d0966_row10_col8\" class=\"data row10 col8\" >-0.019686</td>\n",
       "      <td id=\"T_d0966_row10_col9\" class=\"data row10 col9\" >-0.021014</td>\n",
       "      <td id=\"T_d0966_row10_col10\" class=\"data row10 col10\" >1.000000</td>\n",
       "      <td id=\"T_d0966_row10_col11\" class=\"data row10 col11\" >-0.355211</td>\n",
       "    </tr>\n",
       "    <tr>\n",
       "      <th id=\"T_d0966_level0_row11\" class=\"row_heading level0 row11\" >PotentialBuyerHyperCrypto</th>\n",
       "      <td id=\"T_d0966_row11_col0\" class=\"data row11 col0\" >-0.005293</td>\n",
       "      <td id=\"T_d0966_row11_col1\" class=\"data row11 col1\" >-0.022530</td>\n",
       "      <td id=\"T_d0966_row11_col2\" class=\"data row11 col2\" >0.089447</td>\n",
       "      <td id=\"T_d0966_row11_col3\" class=\"data row11 col3\" >0.000959</td>\n",
       "      <td id=\"T_d0966_row11_col4\" class=\"data row11 col4\" >0.176224</td>\n",
       "      <td id=\"T_d0966_row11_col5\" class=\"data row11 col5\" >-0.007358</td>\n",
       "      <td id=\"T_d0966_row11_col6\" class=\"data row11 col6\" >0.005495</td>\n",
       "      <td id=\"T_d0966_row11_col7\" class=\"data row11 col7\" >0.134106</td>\n",
       "      <td id=\"T_d0966_row11_col8\" class=\"data row11 col8\" >0.039892</td>\n",
       "      <td id=\"T_d0966_row11_col9\" class=\"data row11 col9\" >-0.049023</td>\n",
       "      <td id=\"T_d0966_row11_col10\" class=\"data row11 col10\" >-0.355211</td>\n",
       "      <td id=\"T_d0966_row11_col11\" class=\"data row11 col11\" >1.000000</td>\n",
       "    </tr>\n",
       "  </tbody>\n",
       "</table>\n"
      ],
      "text/plain": [
       "<pandas.io.formats.style.Styler at 0x7f9a48988df0>"
      ]
     },
     "execution_count": 25,
     "metadata": {},
     "output_type": "execute_result"
    }
   ],
   "source": [
    "corr = df.corr()\n",
    "corr.style.background_gradient(cmap='YlOrRd')\n",
    "# profile = ProfileReport(df, title=\"Pandas Profiling Report\", progress_bar=False)\n",
    "# eda_filename = \"report.html\"\n",
    "# profile.to_file(eda_filename)"
   ]
  },
  {
   "cell_type": "code",
   "execution_count": 26,
   "metadata": {},
   "outputs": [
    {
     "name": "stdout",
     "output_type": "stream",
     "text": [
      "Feat11  PotentialBuyerHyperCrypto\n",
      "0       0                             76\n",
      "        1                             46\n",
      "1       0                            109\n",
      "        1                             35\n",
      "2       0                            101\n",
      "        1                             44\n",
      "3       0                            102\n",
      "        1                             45\n",
      "4       0                            109\n",
      "        1                             38\n",
      "5       0                            102\n",
      "        1                             36\n",
      "6       0                            140\n",
      "7       0                            128\n",
      "8       0                            125\n",
      "9       0                            123\n",
      "10      0                            141\n",
      "Name: PotentialBuyerHyperCrypto, dtype: int64\n"
     ]
    },
    {
     "data": {
      "text/plain": [
       "<AxesSubplot:xlabel='Feat11,PotentialBuyerHyperCrypto'>"
      ]
     },
     "execution_count": 26,
     "metadata": {},
     "output_type": "execute_result"
    },
    {
     "data": {
      "image/png": "[encoded data removed]",
      "text/plain": [
       "<Figure size 432x288 with 1 Axes>"
      ]
     },
     "metadata": {
      "needs_background": "light"
     },
     "output_type": "display_data"
    }
   ],
   "source": [
    "fd3 = df.groupby(['Feat11']).PotentialBuyerHyperCrypto.value_counts()\n",
    "print(fd3)\n",
    "fd3.plot(kind='bar', stacked=True)"
   ]
  },
  {
   "cell_type": "markdown",
   "metadata": {},
   "source": [
    "## Handle Missing Data "
   ]
  },
  {
   "cell_type": "markdown",
   "metadata": {},
   "source": [
    "Only column Feat5 contains missing values. 57 rows have missing values in this column. We will be filling missing cells with mean value."
   ]
  },
  {
   "cell_type": "code",
   "execution_count": 27,
   "metadata": {},
   "outputs": [
    {
     "name": "stdout",
     "output_type": "stream",
     "text": [
      "Feat5  PotentialBuyerHyperCrypto\n",
      "0.0    0                             70\n",
      "1.0    0                            148\n",
      "       1                              1\n",
      "2.0    0                            137\n",
      "3.0    0                            110\n",
      "       1                             26\n",
      "4.0    0                            110\n",
      "       1                             30\n",
      "5.0    0                            118\n",
      "       1                             37\n",
      "6.0    0                            117\n",
      "       1                             35\n",
      "7.0    0                            112\n",
      "       1                             31\n",
      "8.0    0                            123\n",
      "       1                             31\n",
      "9.0    0                            107\n",
      "       1                             23\n",
      "10.0   0                             61\n",
      "       1                             16\n",
      "Name: PotentialBuyerHyperCrypto, dtype: int64\n"
     ]
    },
    {
     "data": {
      "text/plain": [
       "<AxesSubplot:xlabel='Feat5,PotentialBuyerHyperCrypto'>"
      ]
     },
     "execution_count": 27,
     "metadata": {},
     "output_type": "execute_result"
    },
    {
     "data": {
      "image/png": "[encoded data removed]",
      "text/plain": [
       "<Figure size 432x288 with 1 Axes>"
      ]
     },
     "metadata": {
      "needs_background": "light"
     },
     "output_type": "display_data"
    }
   ],
   "source": [
    "fd3 = df.groupby(['Feat5']).PotentialBuyerHyperCrypto.value_counts()\n",
    "print(fd3)\n",
    "fd3.plot(kind='bar', stacked=True)"
   ]
  },
  {
   "cell_type": "markdown",
   "metadata": {},
   "source": [
    "Here we can see above that when Feat5 value is below 3, there is now 1 class and the count also decreaases when Feat5 value is greater than 7. So filling Feat5 with its mean values is good option"
   ]
  },
  {
   "cell_type": "code",
   "execution_count": 28,
   "metadata": {},
   "outputs": [],
   "source": [
    "df = df.fillna(df.Feat5.mean())"
   ]
  },
  {
   "cell_type": "markdown",
   "metadata": {},
   "source": [
    "# Outliers Detection and Removal "
   ]
  },
  {
   "cell_type": "markdown",
   "metadata": {},
   "source": [
    "We can see in below boxplot that Feat7 contains outliers. So we will remove those rows."
   ]
  },
  {
   "cell_type": "code",
   "execution_count": 29,
   "metadata": {},
   "outputs": [
    {
     "data": {
      "text/plain": [
       "<AxesSubplot:>"
      ]
     },
     "execution_count": 29,
     "metadata": {},
     "output_type": "execute_result"
    },
    {
     "data": {
      "image/png": "[encoded data removed]",
      "text/plain": [
       "<Figure size 432x288 with 1 Axes>"
      ]
     },
     "metadata": {
      "needs_background": "light"
     },
     "output_type": "display_data"
    }
   ],
   "source": [
    "df.boxplot()"
   ]
  },
  {
   "cell_type": "code",
   "execution_count": 30,
   "metadata": {},
   "outputs": [
    {
     "name": "stdout",
     "output_type": "stream",
     "text": [
      "(1460, 13)\n"
     ]
    },
    {
     "data": {
      "image/png": "[encoded data removed]",
      "text/plain": [
       "<Figure size 432x288 with 1 Axes>"
      ]
     },
     "metadata": {
      "needs_background": "light"
     },
     "output_type": "display_data"
    }
   ],
   "source": [
    "Feat7_mean = df['Feat7'].mean()\n",
    "df_remove_outliers = df[df.Feat7 < Feat7_mean]\n",
    "df_remove_outliers.boxplot()\n",
    "print(df_remove_outliers.shape)"
   ]
  },
  {
   "cell_type": "code",
   "execution_count": 31,
   "metadata": {},
   "outputs": [
    {
     "name": "stdout",
     "output_type": "stream",
     "text": [
      "Shape of DataFrame (1460, 13)\n"
     ]
    },
    {
     "data": {
      "image/png": "[encoded data removed]",
      "text/plain": [
       "<Figure size 432x288 with 1 Axes>"
      ]
     },
     "metadata": {
      "needs_background": "light"
     },
     "output_type": "display_data"
    }
   ],
   "source": [
    "print(\"Shape of DataFrame\", df_remove_outliers.shape)\n",
    "count_dict = dict(df_remove_outliers.count())\n",
    "plt.bar(range(len(count_dict)), count_dict.values(), align='center')\n",
    "plt.xticks(range(len(count_dict)), list(count_dict.keys()))\n",
    "plt.show()"
   ]
  },
  {
   "cell_type": "code",
   "execution_count": 32,
   "metadata": {},
   "outputs": [
    {
     "data": {
      "text/html": [
       "<div>\n",
       "<style scoped>\n",
       "    .dataframe tbody tr th:only-of-type {\n",
       "        vertical-align: middle;\n",
       "    }\n",
       "\n",
       "    .dataframe tbody tr th {\n",
       "        vertical-align: top;\n",
       "    }\n",
       "\n",
       "    .dataframe thead th {\n",
       "        text-align: right;\n",
       "    }\n",
       "</style>\n",
       "<table border=\"1\" class=\"dataframe\">\n",
       "  <thead>\n",
       "    <tr style=\"text-align: right;\">\n",
       "      <th></th>\n",
       "      <th>Feat0</th>\n",
       "      <th>Feat1</th>\n",
       "      <th>Feat2</th>\n",
       "      <th>Feat4</th>\n",
       "      <th>Feat5</th>\n",
       "      <th>Feat6</th>\n",
       "      <th>Feat7</th>\n",
       "      <th>Feat8</th>\n",
       "      <th>Feat9</th>\n",
       "      <th>Feat10</th>\n",
       "      <th>Feat11</th>\n",
       "      <th>PotentialBuyerHyperCrypto</th>\n",
       "    </tr>\n",
       "  </thead>\n",
       "  <tbody>\n",
       "    <tr>\n",
       "      <th>count</th>\n",
       "      <td>1460.000000</td>\n",
       "      <td>1460.000000</td>\n",
       "      <td>1460.000000</td>\n",
       "      <td>1460.000000</td>\n",
       "      <td>1460.000000</td>\n",
       "      <td>1460.000000</td>\n",
       "      <td>1460.000000</td>\n",
       "      <td>1460.000000</td>\n",
       "      <td>1460.000000</td>\n",
       "      <td>1460.000000</td>\n",
       "      <td>1460.000000</td>\n",
       "      <td>1460.000000</td>\n",
       "    </tr>\n",
       "    <tr>\n",
       "      <th>mean</th>\n",
       "      <td>0.501971</td>\n",
       "      <td>0.485616</td>\n",
       "      <td>4.911726</td>\n",
       "      <td>0.503521</td>\n",
       "      <td>5.026299</td>\n",
       "      <td>50.267808</td>\n",
       "      <td>1.502740</td>\n",
       "      <td>51.302740</td>\n",
       "      <td>3.476712</td>\n",
       "      <td>500.049315</td>\n",
       "      <td>4.917808</td>\n",
       "      <td>0.162329</td>\n",
       "    </tr>\n",
       "    <tr>\n",
       "      <th>std</th>\n",
       "      <td>0.289997</td>\n",
       "      <td>0.499964</td>\n",
       "      <td>2.843094</td>\n",
       "      <td>0.290276</td>\n",
       "      <td>2.852079</td>\n",
       "      <td>29.123173</td>\n",
       "      <td>1.128176</td>\n",
       "      <td>28.475428</td>\n",
       "      <td>2.258213</td>\n",
       "      <td>290.304353</td>\n",
       "      <td>3.126326</td>\n",
       "      <td>0.368878</td>\n",
       "    </tr>\n",
       "    <tr>\n",
       "      <th>min</th>\n",
       "      <td>0.003947</td>\n",
       "      <td>0.000000</td>\n",
       "      <td>0.000000</td>\n",
       "      <td>0.000000</td>\n",
       "      <td>0.000000</td>\n",
       "      <td>0.000000</td>\n",
       "      <td>0.000000</td>\n",
       "      <td>0.000000</td>\n",
       "      <td>0.000000</td>\n",
       "      <td>0.000000</td>\n",
       "      <td>0.000000</td>\n",
       "      <td>0.000000</td>\n",
       "    </tr>\n",
       "    <tr>\n",
       "      <th>25%</th>\n",
       "      <td>0.250627</td>\n",
       "      <td>0.000000</td>\n",
       "      <td>2.520000</td>\n",
       "      <td>0.250000</td>\n",
       "      <td>3.000000</td>\n",
       "      <td>25.000000</td>\n",
       "      <td>0.000000</td>\n",
       "      <td>28.000000</td>\n",
       "      <td>2.000000</td>\n",
       "      <td>248.500000</td>\n",
       "      <td>2.000000</td>\n",
       "      <td>0.000000</td>\n",
       "    </tr>\n",
       "    <tr>\n",
       "      <th>50%</th>\n",
       "      <td>0.503861</td>\n",
       "      <td>0.000000</td>\n",
       "      <td>4.915000</td>\n",
       "      <td>0.500000</td>\n",
       "      <td>5.000000</td>\n",
       "      <td>50.500000</td>\n",
       "      <td>1.000000</td>\n",
       "      <td>51.000000</td>\n",
       "      <td>3.000000</td>\n",
       "      <td>514.000000</td>\n",
       "      <td>5.000000</td>\n",
       "      <td>0.000000</td>\n",
       "    </tr>\n",
       "    <tr>\n",
       "      <th>75%</th>\n",
       "      <td>0.752231</td>\n",
       "      <td>1.000000</td>\n",
       "      <td>7.340000</td>\n",
       "      <td>0.770000</td>\n",
       "      <td>7.000000</td>\n",
       "      <td>75.000000</td>\n",
       "      <td>3.000000</td>\n",
       "      <td>75.000000</td>\n",
       "      <td>5.000000</td>\n",
       "      <td>755.000000</td>\n",
       "      <td>8.000000</td>\n",
       "      <td>0.000000</td>\n",
       "    </tr>\n",
       "    <tr>\n",
       "      <th>max</th>\n",
       "      <td>0.999967</td>\n",
       "      <td>1.000000</td>\n",
       "      <td>10.000000</td>\n",
       "      <td>1.000000</td>\n",
       "      <td>10.000000</td>\n",
       "      <td>100.000000</td>\n",
       "      <td>3.000000</td>\n",
       "      <td>100.000000</td>\n",
       "      <td>7.000000</td>\n",
       "      <td>999.000000</td>\n",
       "      <td>10.000000</td>\n",
       "      <td>1.000000</td>\n",
       "    </tr>\n",
       "  </tbody>\n",
       "</table>\n",
       "</div>"
      ],
      "text/plain": [
       "             Feat0        Feat1        Feat2        Feat4        Feat5  \\\n",
       "count  1460.000000  1460.000000  1460.000000  1460.000000  1460.000000   \n",
       "mean      0.501971     0.485616     4.911726     0.503521     5.026299   \n",
       "std       0.289997     0.499964     2.843094     0.290276     2.852079   \n",
       "min       0.003947     0.000000     0.000000     0.000000     0.000000   \n",
       "25%       0.250627     0.000000     2.520000     0.250000     3.000000   \n",
       "50%       0.503861     0.000000     4.915000     0.500000     5.000000   \n",
       "75%       0.752231     1.000000     7.340000     0.770000     7.000000   \n",
       "max       0.999967     1.000000    10.000000     1.000000    10.000000   \n",
       "\n",
       "             Feat6        Feat7        Feat8        Feat9       Feat10  \\\n",
       "count  1460.000000  1460.000000  1460.000000  1460.000000  1460.000000   \n",
       "mean     50.267808     1.502740    51.302740     3.476712   500.049315   \n",
       "std      29.123173     1.128176    28.475428     2.258213   290.304353   \n",
       "min       0.000000     0.000000     0.000000     0.000000     0.000000   \n",
       "25%      25.000000     0.000000    28.000000     2.000000   248.500000   \n",
       "50%      50.500000     1.000000    51.000000     3.000000   514.000000   \n",
       "75%      75.000000     3.000000    75.000000     5.000000   755.000000   \n",
       "max     100.000000     3.000000   100.000000     7.000000   999.000000   \n",
       "\n",
       "            Feat11  PotentialBuyerHyperCrypto  \n",
       "count  1460.000000                1460.000000  \n",
       "mean      4.917808                   0.162329  \n",
       "std       3.126326                   0.368878  \n",
       "min       0.000000                   0.000000  \n",
       "25%       2.000000                   0.000000  \n",
       "50%       5.000000                   0.000000  \n",
       "75%       8.000000                   0.000000  \n",
       "max      10.000000                   1.000000  "
      ]
     },
     "execution_count": 32,
     "metadata": {},
     "output_type": "execute_result"
    }
   ],
   "source": [
    "df_remove_outliers.describe()"
   ]
  },
  {
   "cell_type": "markdown",
   "metadata": {},
   "source": [
    "Feat3 is a categorical column. In order to train model. We need to convert it to numerical. We will be using One-Hot encoding for this."
   ]
  },
  {
   "cell_type": "markdown",
   "metadata": {},
   "source": [
    "## One-hot Encoding of Feat3 "
   ]
  },
  {
   "cell_type": "code",
   "execution_count": 33,
   "metadata": {},
   "outputs": [
    {
     "name": "stderr",
     "output_type": "stream",
     "text": [
      "/var/folders/dy/z19pl9g142b25pylv_b95y0r0000gp/T/ipykernel_291/2307441981.py:7: SettingWithCopyWarning: \n",
      "A value is trying to be set on a copy of a slice from a DataFrame.\n",
      "Try using .loc[row_indexer,col_indexer] = value instead\n",
      "\n",
      "See the caveats in the documentation: https://pandas.pydata.org/pandas-docs/stable/user_guide/indexing.html#returning-a-view-versus-a-copy\n",
      "  df_remove_outliers[\"Feat3\"] = df_remove_outliers[\"Feat3\"].map({\"A\":0, \"B\":1, \"D\":2})\n"
     ]
    }
   ],
   "source": [
    "# enc = OneHotEncoder(handle_unknown='error')\n",
    "# enc_column = enc.fit_transform(df_remove_outliers[['Feat3']]).toarray()\n",
    "# column_name = enc.get_feature_names(['Feat3'])\n",
    "# enc_df = pd.DataFrame(enc_column, columns=column_name)\n",
    "# df_OHC = df_remove_outliers.join(enc_df)\n",
    "# df_OHC = df_OHC.drop(['Feat3'], axis=1)\n",
    "df_remove_outliers[\"Feat3\"] = df_remove_outliers[\"Feat3\"].map({\"A\":0, \"B\":1, \"D\":2})\n",
    "df_OHC = df_remove_outliers"
   ]
  },
  {
   "cell_type": "code",
   "execution_count": 34,
   "metadata": {},
   "outputs": [
    {
     "data": {
      "text/html": [
       "<div>\n",
       "<style scoped>\n",
       "    .dataframe tbody tr th:only-of-type {\n",
       "        vertical-align: middle;\n",
       "    }\n",
       "\n",
       "    .dataframe tbody tr th {\n",
       "        vertical-align: top;\n",
       "    }\n",
       "\n",
       "    .dataframe thead th {\n",
       "        text-align: right;\n",
       "    }\n",
       "</style>\n",
       "<table border=\"1\" class=\"dataframe\">\n",
       "  <thead>\n",
       "    <tr style=\"text-align: right;\">\n",
       "      <th></th>\n",
       "      <th>Feat0</th>\n",
       "      <th>Feat1</th>\n",
       "      <th>Feat2</th>\n",
       "      <th>Feat3</th>\n",
       "      <th>Feat4</th>\n",
       "      <th>Feat5</th>\n",
       "      <th>Feat6</th>\n",
       "      <th>Feat7</th>\n",
       "      <th>Feat8</th>\n",
       "      <th>Feat9</th>\n",
       "      <th>Feat10</th>\n",
       "      <th>Feat11</th>\n",
       "      <th>PotentialBuyerHyperCrypto</th>\n",
       "    </tr>\n",
       "  </thead>\n",
       "  <tbody>\n",
       "    <tr>\n",
       "      <th>0</th>\n",
       "      <td>0.272659</td>\n",
       "      <td>1.0</td>\n",
       "      <td>0.277</td>\n",
       "      <td>1.0</td>\n",
       "      <td>0.99</td>\n",
       "      <td>0.6</td>\n",
       "      <td>0.89</td>\n",
       "      <td>1.000000</td>\n",
       "      <td>0.46</td>\n",
       "      <td>1.000000</td>\n",
       "      <td>0.468468</td>\n",
       "      <td>1.0</td>\n",
       "      <td>0.0</td>\n",
       "    </tr>\n",
       "    <tr>\n",
       "      <th>1</th>\n",
       "      <td>0.362926</td>\n",
       "      <td>1.0</td>\n",
       "      <td>0.475</td>\n",
       "      <td>1.0</td>\n",
       "      <td>0.64</td>\n",
       "      <td>0.3</td>\n",
       "      <td>0.81</td>\n",
       "      <td>0.666667</td>\n",
       "      <td>0.27</td>\n",
       "      <td>1.000000</td>\n",
       "      <td>0.004004</td>\n",
       "      <td>0.1</td>\n",
       "      <td>1.0</td>\n",
       "    </tr>\n",
       "    <tr>\n",
       "      <th>2</th>\n",
       "      <td>0.281526</td>\n",
       "      <td>0.0</td>\n",
       "      <td>0.695</td>\n",
       "      <td>0.5</td>\n",
       "      <td>0.34</td>\n",
       "      <td>0.7</td>\n",
       "      <td>0.93</td>\n",
       "      <td>0.333333</td>\n",
       "      <td>0.29</td>\n",
       "      <td>0.000000</td>\n",
       "      <td>0.933934</td>\n",
       "      <td>0.7</td>\n",
       "      <td>0.0</td>\n",
       "    </tr>\n",
       "    <tr>\n",
       "      <th>3</th>\n",
       "      <td>0.354330</td>\n",
       "      <td>1.0</td>\n",
       "      <td>0.287</td>\n",
       "      <td>1.0</td>\n",
       "      <td>0.80</td>\n",
       "      <td>0.5</td>\n",
       "      <td>0.39</td>\n",
       "      <td>1.000000</td>\n",
       "      <td>0.61</td>\n",
       "      <td>1.000000</td>\n",
       "      <td>0.254254</td>\n",
       "      <td>0.2</td>\n",
       "      <td>0.0</td>\n",
       "    </tr>\n",
       "    <tr>\n",
       "      <th>4</th>\n",
       "      <td>0.460783</td>\n",
       "      <td>0.0</td>\n",
       "      <td>0.281</td>\n",
       "      <td>0.0</td>\n",
       "      <td>0.82</td>\n",
       "      <td>0.4</td>\n",
       "      <td>0.05</td>\n",
       "      <td>1.000000</td>\n",
       "      <td>0.75</td>\n",
       "      <td>0.571429</td>\n",
       "      <td>0.805806</td>\n",
       "      <td>0.7</td>\n",
       "      <td>0.0</td>\n",
       "    </tr>\n",
       "    <tr>\n",
       "      <th>...</th>\n",
       "      <td>...</td>\n",
       "      <td>...</td>\n",
       "      <td>...</td>\n",
       "      <td>...</td>\n",
       "      <td>...</td>\n",
       "      <td>...</td>\n",
       "      <td>...</td>\n",
       "      <td>...</td>\n",
       "      <td>...</td>\n",
       "      <td>...</td>\n",
       "      <td>...</td>\n",
       "      <td>...</td>\n",
       "      <td>...</td>\n",
       "    </tr>\n",
       "    <tr>\n",
       "      <th>1495</th>\n",
       "      <td>0.982021</td>\n",
       "      <td>1.0</td>\n",
       "      <td>0.018</td>\n",
       "      <td>1.0</td>\n",
       "      <td>0.60</td>\n",
       "      <td>0.7</td>\n",
       "      <td>0.60</td>\n",
       "      <td>0.333333</td>\n",
       "      <td>0.76</td>\n",
       "      <td>0.428571</td>\n",
       "      <td>0.273273</td>\n",
       "      <td>1.0</td>\n",
       "      <td>0.0</td>\n",
       "    </tr>\n",
       "    <tr>\n",
       "      <th>1496</th>\n",
       "      <td>0.003366</td>\n",
       "      <td>0.0</td>\n",
       "      <td>0.476</td>\n",
       "      <td>0.0</td>\n",
       "      <td>0.76</td>\n",
       "      <td>0.1</td>\n",
       "      <td>0.82</td>\n",
       "      <td>1.000000</td>\n",
       "      <td>0.16</td>\n",
       "      <td>0.571429</td>\n",
       "      <td>0.932933</td>\n",
       "      <td>0.7</td>\n",
       "      <td>0.0</td>\n",
       "    </tr>\n",
       "    <tr>\n",
       "      <th>1497</th>\n",
       "      <td>0.814717</td>\n",
       "      <td>0.0</td>\n",
       "      <td>0.475</td>\n",
       "      <td>0.0</td>\n",
       "      <td>0.90</td>\n",
       "      <td>0.5</td>\n",
       "      <td>0.61</td>\n",
       "      <td>0.666667</td>\n",
       "      <td>0.77</td>\n",
       "      <td>0.000000</td>\n",
       "      <td>0.385385</td>\n",
       "      <td>0.4</td>\n",
       "      <td>1.0</td>\n",
       "    </tr>\n",
       "    <tr>\n",
       "      <th>1498</th>\n",
       "      <td>0.018536</td>\n",
       "      <td>1.0</td>\n",
       "      <td>0.786</td>\n",
       "      <td>1.0</td>\n",
       "      <td>0.56</td>\n",
       "      <td>0.8</td>\n",
       "      <td>0.35</td>\n",
       "      <td>0.666667</td>\n",
       "      <td>0.90</td>\n",
       "      <td>0.285714</td>\n",
       "      <td>0.131131</td>\n",
       "      <td>0.7</td>\n",
       "      <td>0.0</td>\n",
       "    </tr>\n",
       "    <tr>\n",
       "      <th>1499</th>\n",
       "      <td>0.446183</td>\n",
       "      <td>0.0</td>\n",
       "      <td>0.817</td>\n",
       "      <td>0.5</td>\n",
       "      <td>0.12</td>\n",
       "      <td>0.0</td>\n",
       "      <td>0.16</td>\n",
       "      <td>0.666667</td>\n",
       "      <td>0.58</td>\n",
       "      <td>0.428571</td>\n",
       "      <td>0.031031</td>\n",
       "      <td>0.7</td>\n",
       "      <td>0.0</td>\n",
       "    </tr>\n",
       "  </tbody>\n",
       "</table>\n",
       "<p>1460 rows × 13 columns</p>\n",
       "</div>"
      ],
      "text/plain": [
       "         Feat0  Feat1  Feat2  Feat3  Feat4  Feat5  Feat6     Feat7  Feat8  \\\n",
       "0     0.272659    1.0  0.277    1.0   0.99    0.6   0.89  1.000000   0.46   \n",
       "1     0.362926    1.0  0.475    1.0   0.64    0.3   0.81  0.666667   0.27   \n",
       "2     0.281526    0.0  0.695    0.5   0.34    0.7   0.93  0.333333   0.29   \n",
       "3     0.354330    1.0  0.287    1.0   0.80    0.5   0.39  1.000000   0.61   \n",
       "4     0.460783    0.0  0.281    0.0   0.82    0.4   0.05  1.000000   0.75   \n",
       "...        ...    ...    ...    ...    ...    ...    ...       ...    ...   \n",
       "1495  0.982021    1.0  0.018    1.0   0.60    0.7   0.60  0.333333   0.76   \n",
       "1496  0.003366    0.0  0.476    0.0   0.76    0.1   0.82  1.000000   0.16   \n",
       "1497  0.814717    0.0  0.475    0.0   0.90    0.5   0.61  0.666667   0.77   \n",
       "1498  0.018536    1.0  0.786    1.0   0.56    0.8   0.35  0.666667   0.90   \n",
       "1499  0.446183    0.0  0.817    0.5   0.12    0.0   0.16  0.666667   0.58   \n",
       "\n",
       "         Feat9    Feat10  Feat11  PotentialBuyerHyperCrypto  \n",
       "0     1.000000  0.468468     1.0                        0.0  \n",
       "1     1.000000  0.004004     0.1                        1.0  \n",
       "2     0.000000  0.933934     0.7                        0.0  \n",
       "3     1.000000  0.254254     0.2                        0.0  \n",
       "4     0.571429  0.805806     0.7                        0.0  \n",
       "...        ...       ...     ...                        ...  \n",
       "1495  0.428571  0.273273     1.0                        0.0  \n",
       "1496  0.571429  0.932933     0.7                        0.0  \n",
       "1497  0.000000  0.385385     0.4                        1.0  \n",
       "1498  0.285714  0.131131     0.7                        0.0  \n",
       "1499  0.428571  0.031031     0.7                        0.0  \n",
       "\n",
       "[1460 rows x 13 columns]"
      ]
     },
     "execution_count": 34,
     "metadata": {},
     "output_type": "execute_result"
    }
   ],
   "source": [
    "df_OHC = pd.DataFrame(scaler.fit_transform(df_OHC.values), columns=df_OHC.columns, index=df_OHC.index)\n",
    "df_OHC"
   ]
  },
  {
   "cell_type": "markdown",
   "metadata": {},
   "source": [
    "# Visualizations "
   ]
  },
  {
   "cell_type": "code",
   "execution_count": 35,
   "metadata": {},
   "outputs": [
    {
     "data": {
      "text/html": [
       "<style type=\"text/css\">\n",
       "#T_67836_row0_col0, #T_67836_row1_col1, #T_67836_row2_col2, #T_67836_row3_col3, #T_67836_row4_col4, #T_67836_row5_col5, #T_67836_row6_col6, #T_67836_row7_col7, #T_67836_row8_col8, #T_67836_row9_col9, #T_67836_row10_col10, #T_67836_row11_col11, #T_67836_row12_col12 {\n",
       "  background-color: #b40426;\n",
       "  color: #f1f1f1;\n",
       "}\n",
       "#T_67836_row0_col1, #T_67836_row0_col6, #T_67836_row0_col7, #T_67836_row2_col3, #T_67836_row2_col5, #T_67836_row5_col0, #T_67836_row5_col2, #T_67836_row6_col4, #T_67836_row7_col0, #T_67836_row7_col6, #T_67836_row11_col8, #T_67836_row11_col9, #T_67836_row11_col12, #T_67836_row12_col7, #T_67836_row12_col10, #T_67836_row12_col11 {\n",
       "  background-color: #3b4cc0;\n",
       "  color: #f1f1f1;\n",
       "}\n",
       "#T_67836_row0_col2, #T_67836_row1_col8, #T_67836_row10_col6 {\n",
       "  background-color: #5470de;\n",
       "  color: #f1f1f1;\n",
       "}\n",
       "#T_67836_row0_col3, #T_67836_row3_col2, #T_67836_row4_col9, #T_67836_row10_col0, #T_67836_row10_col4, #T_67836_row11_col10, #T_67836_row12_col1 {\n",
       "  background-color: #4055c8;\n",
       "  color: #f1f1f1;\n",
       "}\n",
       "#T_67836_row0_col4, #T_67836_row1_col0, #T_67836_row5_col7, #T_67836_row7_col1 {\n",
       "  background-color: #3c4ec2;\n",
       "  color: #f1f1f1;\n",
       "}\n",
       "#T_67836_row0_col5, #T_67836_row0_col9, #T_67836_row1_col3, #T_67836_row3_col1, #T_67836_row4_col6, #T_67836_row5_col3 {\n",
       "  background-color: #3e51c5;\n",
       "  color: #f1f1f1;\n",
       "}\n",
       "#T_67836_row0_col8, #T_67836_row2_col7, #T_67836_row6_col2, #T_67836_row6_col5, #T_67836_row9_col5, #T_67836_row12_col3 {\n",
       "  background-color: #4c66d6;\n",
       "  color: #f1f1f1;\n",
       "}\n",
       "#T_67836_row0_col10, #T_67836_row1_col7, #T_67836_row6_col0, #T_67836_row6_col7, #T_67836_row7_col5, #T_67836_row8_col4, #T_67836_row8_col9, #T_67836_row9_col4 {\n",
       "  background-color: #3f53c6;\n",
       "  color: #f1f1f1;\n",
       "}\n",
       "#T_67836_row0_col11 {\n",
       "  background-color: #8db0fe;\n",
       "  color: #000000;\n",
       "}\n",
       "#T_67836_row0_col12, #T_67836_row5_col11 {\n",
       "  background-color: #92b4fe;\n",
       "  color: #000000;\n",
       "}\n",
       "#T_67836_row1_col2, #T_67836_row9_col7, #T_67836_row11_col7 {\n",
       "  background-color: #5572df;\n",
       "  color: #f1f1f1;\n",
       "}\n",
       "#T_67836_row1_col4, #T_67836_row1_col5, #T_67836_row3_col7, #T_67836_row4_col2, #T_67836_row4_col8, #T_67836_row7_col10, #T_67836_row9_col10, #T_67836_row10_col8, #T_67836_row11_col3, #T_67836_row12_col0 {\n",
       "  background-color: #4961d2;\n",
       "  color: #f1f1f1;\n",
       "}\n",
       "#T_67836_row1_col6, #T_67836_row4_col10, #T_67836_row7_col4, #T_67836_row9_col6, #T_67836_row9_col8 {\n",
       "  background-color: #485fd1;\n",
       "  color: #f1f1f1;\n",
       "}\n",
       "#T_67836_row1_col9, #T_67836_row8_col5 {\n",
       "  background-color: #536edd;\n",
       "  color: #f1f1f1;\n",
       "}\n",
       "#T_67836_row1_col10, #T_67836_row2_col6, #T_67836_row3_col5, #T_67836_row4_col0, #T_67836_row5_col1, #T_67836_row8_col6, #T_67836_row10_col3, #T_67836_row11_col0 {\n",
       "  background-color: #445acc;\n",
       "  color: #f1f1f1;\n",
       "}\n",
       "#T_67836_row1_col11, #T_67836_row6_col11 {\n",
       "  background-color: #8fb1fe;\n",
       "  color: #000000;\n",
       "}\n",
       "#T_67836_row1_col12, #T_67836_row10_col11 {\n",
       "  background-color: #8caffe;\n",
       "  color: #000000;\n",
       "}\n",
       "#T_67836_row2_col0, #T_67836_row3_col6, #T_67836_row4_col1, #T_67836_row4_col7, #T_67836_row8_col1 {\n",
       "  background-color: #506bda;\n",
       "  color: #f1f1f1;\n",
       "}\n",
       "#T_67836_row2_col1, #T_67836_row7_col2, #T_67836_row9_col3, #T_67836_row10_col5, #T_67836_row12_col9 {\n",
       "  background-color: #4f69d9;\n",
       "  color: #f1f1f1;\n",
       "}\n",
       "#T_67836_row2_col4 {\n",
       "  background-color: #3d50c3;\n",
       "  color: #f1f1f1;\n",
       "}\n",
       "#T_67836_row2_col8, #T_67836_row3_col8, #T_67836_row3_col9, #T_67836_row4_col3, #T_67836_row6_col1, #T_67836_row6_col8, #T_67836_row8_col0 {\n",
       "  background-color: #4a63d3;\n",
       "  color: #f1f1f1;\n",
       "}\n",
       "#T_67836_row2_col9, #T_67836_row2_col10, #T_67836_row5_col8, #T_67836_row6_col3 {\n",
       "  background-color: #516ddb;\n",
       "  color: #f1f1f1;\n",
       "}\n",
       "#T_67836_row2_col11 {\n",
       "  background-color: #88abfd;\n",
       "  color: #000000;\n",
       "}\n",
       "#T_67836_row2_col12 {\n",
       "  background-color: #a7c5fe;\n",
       "  color: #000000;\n",
       "}\n",
       "#T_67836_row3_col0, #T_67836_row5_col4, #T_67836_row10_col1, #T_67836_row10_col9, #T_67836_row11_col1, #T_67836_row12_col4, #T_67836_row12_col6 {\n",
       "  background-color: #4358cb;\n",
       "  color: #f1f1f1;\n",
       "}\n",
       "#T_67836_row3_col4, #T_67836_row3_col10, #T_67836_row5_col6, #T_67836_row6_col9, #T_67836_row7_col8, #T_67836_row8_col7, #T_67836_row8_col10, #T_67836_row11_col4 {\n",
       "  background-color: #455cce;\n",
       "  color: #f1f1f1;\n",
       "}\n",
       "#T_67836_row3_col11 {\n",
       "  background-color: #94b6ff;\n",
       "  color: #000000;\n",
       "}\n",
       "#T_67836_row3_col12 {\n",
       "  background-color: #97b8ff;\n",
       "  color: #000000;\n",
       "}\n",
       "#T_67836_row4_col5, #T_67836_row7_col9 {\n",
       "  background-color: #4e68d8;\n",
       "  color: #f1f1f1;\n",
       "}\n",
       "#T_67836_row4_col11 {\n",
       "  background-color: #96b7ff;\n",
       "  color: #000000;\n",
       "}\n",
       "#T_67836_row4_col12 {\n",
       "  background-color: #93b5fe;\n",
       "  color: #000000;\n",
       "}\n",
       "#T_67836_row5_col9, #T_67836_row11_col2, #T_67836_row11_col6 {\n",
       "  background-color: #4257c9;\n",
       "  color: #f1f1f1;\n",
       "}\n",
       "#T_67836_row5_col10, #T_67836_row8_col2, #T_67836_row10_col7, #T_67836_row11_col5 {\n",
       "  background-color: #4b64d5;\n",
       "  color: #f1f1f1;\n",
       "}\n",
       "#T_67836_row5_col12 {\n",
       "  background-color: #bed2f6;\n",
       "  color: #000000;\n",
       "}\n",
       "#T_67836_row6_col10, #T_67836_row9_col1 {\n",
       "  background-color: #5875e1;\n",
       "  color: #f1f1f1;\n",
       "}\n",
       "#T_67836_row6_col12 {\n",
       "  background-color: #90b2fe;\n",
       "  color: #000000;\n",
       "}\n",
       "#T_67836_row7_col3, #T_67836_row8_col3, #T_67836_row9_col0 {\n",
       "  background-color: #465ecf;\n",
       "  color: #f1f1f1;\n",
       "}\n",
       "#T_67836_row7_col11 {\n",
       "  background-color: #9dbdff;\n",
       "  color: #000000;\n",
       "}\n",
       "#T_67836_row7_col12, #T_67836_row8_col11 {\n",
       "  background-color: #84a7fc;\n",
       "  color: #f1f1f1;\n",
       "}\n",
       "#T_67836_row8_col12 {\n",
       "  background-color: #b2ccfb;\n",
       "  color: #000000;\n",
       "}\n",
       "#T_67836_row9_col2 {\n",
       "  background-color: #5b7ae5;\n",
       "  color: #f1f1f1;\n",
       "}\n",
       "#T_67836_row9_col11 {\n",
       "  background-color: #8badfd;\n",
       "  color: #000000;\n",
       "}\n",
       "#T_67836_row9_col12 {\n",
       "  background-color: #9ebeff;\n",
       "  color: #000000;\n",
       "}\n",
       "#T_67836_row10_col2 {\n",
       "  background-color: #5673e0;\n",
       "  color: #f1f1f1;\n",
       "}\n",
       "#T_67836_row10_col12 {\n",
       "  background-color: #85a8fc;\n",
       "  color: #f1f1f1;\n",
       "}\n",
       "#T_67836_row12_col2 {\n",
       "  background-color: #6788ee;\n",
       "  color: #f1f1f1;\n",
       "}\n",
       "#T_67836_row12_col5 {\n",
       "  background-color: #82a6fb;\n",
       "  color: #f1f1f1;\n",
       "}\n",
       "#T_67836_row12_col8 {\n",
       "  background-color: #7295f4;\n",
       "  color: #f1f1f1;\n",
       "}\n",
       "</style>\n",
       "<table id=\"T_67836_\">\n",
       "  <thead>\n",
       "    <tr>\n",
       "      <th class=\"blank level0\" >&nbsp;</th>\n",
       "      <th class=\"col_heading level0 col0\" >Feat0</th>\n",
       "      <th class=\"col_heading level0 col1\" >Feat1</th>\n",
       "      <th class=\"col_heading level0 col2\" >Feat2</th>\n",
       "      <th class=\"col_heading level0 col3\" >Feat3</th>\n",
       "      <th class=\"col_heading level0 col4\" >Feat4</th>\n",
       "      <th class=\"col_heading level0 col5\" >Feat5</th>\n",
       "      <th class=\"col_heading level0 col6\" >Feat6</th>\n",
       "      <th class=\"col_heading level0 col7\" >Feat7</th>\n",
       "      <th class=\"col_heading level0 col8\" >Feat8</th>\n",
       "      <th class=\"col_heading level0 col9\" >Feat9</th>\n",
       "      <th class=\"col_heading level0 col10\" >Feat10</th>\n",
       "      <th class=\"col_heading level0 col11\" >Feat11</th>\n",
       "      <th class=\"col_heading level0 col12\" >PotentialBuyerHyperCrypto</th>\n",
       "    </tr>\n",
       "  </thead>\n",
       "  <tbody>\n",
       "    <tr>\n",
       "      <th id=\"T_67836_level0_row0\" class=\"row_heading level0 row0\" >Feat0</th>\n",
       "      <td id=\"T_67836_row0_col0\" class=\"data row0 col0\" >1.000000</td>\n",
       "      <td id=\"T_67836_row0_col1\" class=\"data row0 col1\" >-0.042444</td>\n",
       "      <td id=\"T_67836_row0_col2\" class=\"data row0 col2\" >0.027914</td>\n",
       "      <td id=\"T_67836_row0_col3\" class=\"data row0 col3\" >-0.018388</td>\n",
       "      <td id=\"T_67836_row0_col4\" class=\"data row0 col4\" >-0.014611</td>\n",
       "      <td id=\"T_67836_row0_col5\" class=\"data row0 col5\" >-0.046694</td>\n",
       "      <td id=\"T_67836_row0_col6\" class=\"data row0 col6\" >-0.033206</td>\n",
       "      <td id=\"T_67836_row0_col7\" class=\"data row0 col7\" >-0.049633</td>\n",
       "      <td id=\"T_67836_row0_col8\" class=\"data row0 col8\" >0.007565</td>\n",
       "      <td id=\"T_67836_row0_col9\" class=\"data row0 col9\" >-0.008609</td>\n",
       "      <td id=\"T_67836_row0_col10\" class=\"data row0 col10\" >-0.028778</td>\n",
       "      <td id=\"T_67836_row0_col11\" class=\"data row0 col11\" >-0.013169</td>\n",
       "      <td id=\"T_67836_row0_col12\" class=\"data row0 col12\" >-0.000366</td>\n",
       "    </tr>\n",
       "    <tr>\n",
       "      <th id=\"T_67836_level0_row1\" class=\"row_heading level0 row1\" >Feat1</th>\n",
       "      <td id=\"T_67836_row1_col0\" class=\"data row1 col0\" >-0.042444</td>\n",
       "      <td id=\"T_67836_row1_col1\" class=\"data row1 col1\" >1.000000</td>\n",
       "      <td id=\"T_67836_row1_col2\" class=\"data row1 col2\" >0.029850</td>\n",
       "      <td id=\"T_67836_row1_col3\" class=\"data row1 col3\" >-0.026642</td>\n",
       "      <td id=\"T_67836_row1_col4\" class=\"data row1 col4\" >0.030905</td>\n",
       "      <td id=\"T_67836_row1_col5\" class=\"data row1 col5\" >-0.008579</td>\n",
       "      <td id=\"T_67836_row1_col6\" class=\"data row1 col6\" >0.014504</td>\n",
       "      <td id=\"T_67836_row1_col7\" class=\"data row1 col7\" >-0.034562</td>\n",
       "      <td id=\"T_67836_row1_col8\" class=\"data row1 col8\" >0.032321</td>\n",
       "      <td id=\"T_67836_row1_col9\" class=\"data row1 col9\" >0.057679</td>\n",
       "      <td id=\"T_67836_row1_col10\" class=\"data row1 col10\" >-0.011173</td>\n",
       "      <td id=\"T_67836_row1_col11\" class=\"data row1 col11\" >-0.010404</td>\n",
       "      <td id=\"T_67836_row1_col12\" class=\"data row1 col12\" >-0.018921</td>\n",
       "    </tr>\n",
       "    <tr>\n",
       "      <th id=\"T_67836_level0_row2\" class=\"row_heading level0 row2\" >Feat2</th>\n",
       "      <td id=\"T_67836_row2_col0\" class=\"data row2 col0\" >0.027914</td>\n",
       "      <td id=\"T_67836_row2_col1\" class=\"data row2 col1\" >0.029850</td>\n",
       "      <td id=\"T_67836_row2_col2\" class=\"data row2 col2\" >1.000000</td>\n",
       "      <td id=\"T_67836_row2_col3\" class=\"data row2 col3\" >-0.040487</td>\n",
       "      <td id=\"T_67836_row2_col4\" class=\"data row2 col4\" >-0.011300</td>\n",
       "      <td id=\"T_67836_row2_col5\" class=\"data row2 col5\" >-0.062236</td>\n",
       "      <td id=\"T_67836_row2_col6\" class=\"data row2 col6\" >0.001635</td>\n",
       "      <td id=\"T_67836_row2_col7\" class=\"data row2 col7\" >0.010384</td>\n",
       "      <td id=\"T_67836_row2_col8\" class=\"data row2 col8\" >-0.001433</td>\n",
       "      <td id=\"T_67836_row2_col9\" class=\"data row2 col9\" >0.053807</td>\n",
       "      <td id=\"T_67836_row2_col10\" class=\"data row2 col10\" >0.034517</td>\n",
       "      <td id=\"T_67836_row2_col11\" class=\"data row2 col11\" >-0.034164</td>\n",
       "      <td id=\"T_67836_row2_col12\" class=\"data row2 col12\" >0.087810</td>\n",
       "    </tr>\n",
       "    <tr>\n",
       "      <th id=\"T_67836_level0_row3\" class=\"row_heading level0 row3\" >Feat3</th>\n",
       "      <td id=\"T_67836_row3_col0\" class=\"data row3 col0\" >-0.018388</td>\n",
       "      <td id=\"T_67836_row3_col1\" class=\"data row3 col1\" >-0.026642</td>\n",
       "      <td id=\"T_67836_row3_col2\" class=\"data row3 col2\" >-0.040487</td>\n",
       "      <td id=\"T_67836_row3_col3\" class=\"data row3 col3\" >1.000000</td>\n",
       "      <td id=\"T_67836_row3_col4\" class=\"data row3 col4\" >0.015405</td>\n",
       "      <td id=\"T_67836_row3_col5\" class=\"data row3 col5\" >-0.028210</td>\n",
       "      <td id=\"T_67836_row3_col6\" class=\"data row3 col6\" >0.039716</td>\n",
       "      <td id=\"T_67836_row3_col7\" class=\"data row3 col7\" >0.000350</td>\n",
       "      <td id=\"T_67836_row3_col8\" class=\"data row3 col8\" >0.001365</td>\n",
       "      <td id=\"T_67836_row3_col9\" class=\"data row3 col9\" >0.029679</td>\n",
       "      <td id=\"T_67836_row3_col10\" class=\"data row3 col10\" >-0.007861</td>\n",
       "      <td id=\"T_67836_row3_col11\" class=\"data row3 col11\" >0.011264</td>\n",
       "      <td id=\"T_67836_row3_col12\" class=\"data row3 col12\" >0.021152</td>\n",
       "    </tr>\n",
       "    <tr>\n",
       "      <th id=\"T_67836_level0_row4\" class=\"row_heading level0 row4\" >Feat4</th>\n",
       "      <td id=\"T_67836_row4_col0\" class=\"data row4 col0\" >-0.014611</td>\n",
       "      <td id=\"T_67836_row4_col1\" class=\"data row4 col1\" >0.030905</td>\n",
       "      <td id=\"T_67836_row4_col2\" class=\"data row4 col2\" >-0.011300</td>\n",
       "      <td id=\"T_67836_row4_col3\" class=\"data row4 col3\" >0.015405</td>\n",
       "      <td id=\"T_67836_row4_col4\" class=\"data row4 col4\" >1.000000</td>\n",
       "      <td id=\"T_67836_row4_col5\" class=\"data row4 col5\" >0.007401</td>\n",
       "      <td id=\"T_67836_row4_col6\" class=\"data row4 col6\" >-0.020607</td>\n",
       "      <td id=\"T_67836_row4_col7\" class=\"data row4 col7\" >0.024081</td>\n",
       "      <td id=\"T_67836_row4_col8\" class=\"data row4 col8\" >-0.002224</td>\n",
       "      <td id=\"T_67836_row4_col9\" class=\"data row4 col9\" >-0.003545</td>\n",
       "      <td id=\"T_67836_row4_col10\" class=\"data row4 col10\" >0.000588</td>\n",
       "      <td id=\"T_67836_row4_col11\" class=\"data row4 col11\" >0.018347</td>\n",
       "      <td id=\"T_67836_row4_col12\" class=\"data row4 col12\" >0.008037</td>\n",
       "    </tr>\n",
       "    <tr>\n",
       "      <th id=\"T_67836_level0_row5\" class=\"row_heading level0 row5\" >Feat5</th>\n",
       "      <td id=\"T_67836_row5_col0\" class=\"data row5 col0\" >-0.046694</td>\n",
       "      <td id=\"T_67836_row5_col1\" class=\"data row5 col1\" >-0.008579</td>\n",
       "      <td id=\"T_67836_row5_col2\" class=\"data row5 col2\" >-0.062236</td>\n",
       "      <td id=\"T_67836_row5_col3\" class=\"data row5 col3\" >-0.028210</td>\n",
       "      <td id=\"T_67836_row5_col4\" class=\"data row5 col4\" >0.007401</td>\n",
       "      <td id=\"T_67836_row5_col5\" class=\"data row5 col5\" >1.000000</td>\n",
       "      <td id=\"T_67836_row5_col6\" class=\"data row5 col6\" >0.003869</td>\n",
       "      <td id=\"T_67836_row5_col7\" class=\"data row5 col7\" >-0.044883</td>\n",
       "      <td id=\"T_67836_row5_col8\" class=\"data row5 col8\" >0.024465</td>\n",
       "      <td id=\"T_67836_row5_col9\" class=\"data row5 col9\" >0.001226</td>\n",
       "      <td id=\"T_67836_row5_col10\" class=\"data row5 col10\" >0.011715</td>\n",
       "      <td id=\"T_67836_row5_col11\" class=\"data row5 col11\" >-0.002081</td>\n",
       "      <td id=\"T_67836_row5_col12\" class=\"data row5 col12\" >0.174004</td>\n",
       "    </tr>\n",
       "    <tr>\n",
       "      <th id=\"T_67836_level0_row6\" class=\"row_heading level0 row6\" >Feat6</th>\n",
       "      <td id=\"T_67836_row6_col0\" class=\"data row6 col0\" >-0.033206</td>\n",
       "      <td id=\"T_67836_row6_col1\" class=\"data row6 col1\" >0.014504</td>\n",
       "      <td id=\"T_67836_row6_col2\" class=\"data row6 col2\" >0.001635</td>\n",
       "      <td id=\"T_67836_row6_col3\" class=\"data row6 col3\" >0.039716</td>\n",
       "      <td id=\"T_67836_row6_col4\" class=\"data row6 col4\" >-0.020607</td>\n",
       "      <td id=\"T_67836_row6_col5\" class=\"data row6 col5\" >0.003869</td>\n",
       "      <td id=\"T_67836_row6_col6\" class=\"data row6 col6\" >1.000000</td>\n",
       "      <td id=\"T_67836_row6_col7\" class=\"data row6 col7\" >-0.033598</td>\n",
       "      <td id=\"T_67836_row6_col8\" class=\"data row6 col8\" >0.002520</td>\n",
       "      <td id=\"T_67836_row6_col9\" class=\"data row6 col9\" >0.014388</td>\n",
       "      <td id=\"T_67836_row6_col10\" class=\"data row6 col10\" >0.055184</td>\n",
       "      <td id=\"T_67836_row6_col11\" class=\"data row6 col11\" >-0.008904</td>\n",
       "      <td id=\"T_67836_row6_col12\" class=\"data row6 col12\" >-0.003092</td>\n",
       "    </tr>\n",
       "    <tr>\n",
       "      <th id=\"T_67836_level0_row7\" class=\"row_heading level0 row7\" >Feat7</th>\n",
       "      <td id=\"T_67836_row7_col0\" class=\"data row7 col0\" >-0.049633</td>\n",
       "      <td id=\"T_67836_row7_col1\" class=\"data row7 col1\" >-0.034562</td>\n",
       "      <td id=\"T_67836_row7_col2\" class=\"data row7 col2\" >0.010384</td>\n",
       "      <td id=\"T_67836_row7_col3\" class=\"data row7 col3\" >0.000350</td>\n",
       "      <td id=\"T_67836_row7_col4\" class=\"data row7 col4\" >0.024081</td>\n",
       "      <td id=\"T_67836_row7_col5\" class=\"data row7 col5\" >-0.044883</td>\n",
       "      <td id=\"T_67836_row7_col6\" class=\"data row7 col6\" >-0.033598</td>\n",
       "      <td id=\"T_67836_row7_col7\" class=\"data row7 col7\" >1.000000</td>\n",
       "      <td id=\"T_67836_row7_col8\" class=\"data row7 col8\" >-0.015515</td>\n",
       "      <td id=\"T_67836_row7_col9\" class=\"data row7 col9\" >0.041456</td>\n",
       "      <td id=\"T_67836_row7_col10\" class=\"data row7 col10\" >0.006466</td>\n",
       "      <td id=\"T_67836_row7_col11\" class=\"data row7 col11\" >0.040678</td>\n",
       "      <td id=\"T_67836_row7_col12\" class=\"data row7 col12\" >-0.052949</td>\n",
       "    </tr>\n",
       "    <tr>\n",
       "      <th id=\"T_67836_level0_row8\" class=\"row_heading level0 row8\" >Feat8</th>\n",
       "      <td id=\"T_67836_row8_col0\" class=\"data row8 col0\" >0.007565</td>\n",
       "      <td id=\"T_67836_row8_col1\" class=\"data row8 col1\" >0.032321</td>\n",
       "      <td id=\"T_67836_row8_col2\" class=\"data row8 col2\" >-0.001433</td>\n",
       "      <td id=\"T_67836_row8_col3\" class=\"data row8 col3\" >0.001365</td>\n",
       "      <td id=\"T_67836_row8_col4\" class=\"data row8 col4\" >-0.002224</td>\n",
       "      <td id=\"T_67836_row8_col5\" class=\"data row8 col5\" >0.024465</td>\n",
       "      <td id=\"T_67836_row8_col6\" class=\"data row8 col6\" >0.002520</td>\n",
       "      <td id=\"T_67836_row8_col7\" class=\"data row8 col7\" >-0.015515</td>\n",
       "      <td id=\"T_67836_row8_col8\" class=\"data row8 col8\" >1.000000</td>\n",
       "      <td id=\"T_67836_row8_col9\" class=\"data row8 col9\" >-0.006616</td>\n",
       "      <td id=\"T_67836_row8_col10\" class=\"data row8 col10\" >-0.005586</td>\n",
       "      <td id=\"T_67836_row8_col11\" class=\"data row8 col11\" >-0.055100</td>\n",
       "      <td id=\"T_67836_row8_col12\" class=\"data row8 col12\" >0.129802</td>\n",
       "    </tr>\n",
       "    <tr>\n",
       "      <th id=\"T_67836_level0_row9\" class=\"row_heading level0 row9\" >Feat9</th>\n",
       "      <td id=\"T_67836_row9_col0\" class=\"data row9 col0\" >-0.008609</td>\n",
       "      <td id=\"T_67836_row9_col1\" class=\"data row9 col1\" >0.057679</td>\n",
       "      <td id=\"T_67836_row9_col2\" class=\"data row9 col2\" >0.053807</td>\n",
       "      <td id=\"T_67836_row9_col3\" class=\"data row9 col3\" >0.029679</td>\n",
       "      <td id=\"T_67836_row9_col4\" class=\"data row9 col4\" >-0.003545</td>\n",
       "      <td id=\"T_67836_row9_col5\" class=\"data row9 col5\" >0.001226</td>\n",
       "      <td id=\"T_67836_row9_col6\" class=\"data row9 col6\" >0.014388</td>\n",
       "      <td id=\"T_67836_row9_col7\" class=\"data row9 col7\" >0.041456</td>\n",
       "      <td id=\"T_67836_row9_col8\" class=\"data row9 col8\" >-0.006616</td>\n",
       "      <td id=\"T_67836_row9_col9\" class=\"data row9 col9\" >1.000000</td>\n",
       "      <td id=\"T_67836_row9_col10\" class=\"data row9 col10\" >0.004319</td>\n",
       "      <td id=\"T_67836_row9_col11\" class=\"data row9 col11\" >-0.024542</td>\n",
       "      <td id=\"T_67836_row9_col12\" class=\"data row9 col12\" >0.046093</td>\n",
       "    </tr>\n",
       "    <tr>\n",
       "      <th id=\"T_67836_level0_row10\" class=\"row_heading level0 row10\" >Feat10</th>\n",
       "      <td id=\"T_67836_row10_col0\" class=\"data row10 col0\" >-0.028778</td>\n",
       "      <td id=\"T_67836_row10_col1\" class=\"data row10 col1\" >-0.011173</td>\n",
       "      <td id=\"T_67836_row10_col2\" class=\"data row10 col2\" >0.034517</td>\n",
       "      <td id=\"T_67836_row10_col3\" class=\"data row10 col3\" >-0.007861</td>\n",
       "      <td id=\"T_67836_row10_col4\" class=\"data row10 col4\" >0.000588</td>\n",
       "      <td id=\"T_67836_row10_col5\" class=\"data row10 col5\" >0.011715</td>\n",
       "      <td id=\"T_67836_row10_col6\" class=\"data row10 col6\" >0.055184</td>\n",
       "      <td id=\"T_67836_row10_col7\" class=\"data row10 col7\" >0.006466</td>\n",
       "      <td id=\"T_67836_row10_col8\" class=\"data row10 col8\" >-0.005586</td>\n",
       "      <td id=\"T_67836_row10_col9\" class=\"data row10 col9\" >0.004319</td>\n",
       "      <td id=\"T_67836_row10_col10\" class=\"data row10 col10\" >1.000000</td>\n",
       "      <td id=\"T_67836_row10_col11\" class=\"data row10 col11\" >-0.021802</td>\n",
       "      <td id=\"T_67836_row10_col12\" class=\"data row10 col12\" >-0.045979</td>\n",
       "    </tr>\n",
       "    <tr>\n",
       "      <th id=\"T_67836_level0_row11\" class=\"row_heading level0 row11\" >Feat11</th>\n",
       "      <td id=\"T_67836_row11_col0\" class=\"data row11 col0\" >-0.013169</td>\n",
       "      <td id=\"T_67836_row11_col1\" class=\"data row11 col1\" >-0.010404</td>\n",
       "      <td id=\"T_67836_row11_col2\" class=\"data row11 col2\" >-0.034164</td>\n",
       "      <td id=\"T_67836_row11_col3\" class=\"data row11 col3\" >0.011264</td>\n",
       "      <td id=\"T_67836_row11_col4\" class=\"data row11 col4\" >0.018347</td>\n",
       "      <td id=\"T_67836_row11_col5\" class=\"data row11 col5\" >-0.002081</td>\n",
       "      <td id=\"T_67836_row11_col6\" class=\"data row11 col6\" >-0.008904</td>\n",
       "      <td id=\"T_67836_row11_col7\" class=\"data row11 col7\" >0.040678</td>\n",
       "      <td id=\"T_67836_row11_col8\" class=\"data row11 col8\" >-0.055100</td>\n",
       "      <td id=\"T_67836_row11_col9\" class=\"data row11 col9\" >-0.024542</td>\n",
       "      <td id=\"T_67836_row11_col10\" class=\"data row11 col10\" >-0.021802</td>\n",
       "      <td id=\"T_67836_row11_col11\" class=\"data row11 col11\" >1.000000</td>\n",
       "      <td id=\"T_67836_row11_col12\" class=\"data row11 col12\" >-0.357501</td>\n",
       "    </tr>\n",
       "    <tr>\n",
       "      <th id=\"T_67836_level0_row12\" class=\"row_heading level0 row12\" >PotentialBuyerHyperCrypto</th>\n",
       "      <td id=\"T_67836_row12_col0\" class=\"data row12 col0\" >-0.000366</td>\n",
       "      <td id=\"T_67836_row12_col1\" class=\"data row12 col1\" >-0.018921</td>\n",
       "      <td id=\"T_67836_row12_col2\" class=\"data row12 col2\" >0.087810</td>\n",
       "      <td id=\"T_67836_row12_col3\" class=\"data row12 col3\" >0.021152</td>\n",
       "      <td id=\"T_67836_row12_col4\" class=\"data row12 col4\" >0.008037</td>\n",
       "      <td id=\"T_67836_row12_col5\" class=\"data row12 col5\" >0.174004</td>\n",
       "      <td id=\"T_67836_row12_col6\" class=\"data row12 col6\" >-0.003092</td>\n",
       "      <td id=\"T_67836_row12_col7\" class=\"data row12 col7\" >-0.052949</td>\n",
       "      <td id=\"T_67836_row12_col8\" class=\"data row12 col8\" >0.129802</td>\n",
       "      <td id=\"T_67836_row12_col9\" class=\"data row12 col9\" >0.046093</td>\n",
       "      <td id=\"T_67836_row12_col10\" class=\"data row12 col10\" >-0.045979</td>\n",
       "      <td id=\"T_67836_row12_col11\" class=\"data row12 col11\" >-0.357501</td>\n",
       "      <td id=\"T_67836_row12_col12\" class=\"data row12 col12\" >1.000000</td>\n",
       "    </tr>\n",
       "  </tbody>\n",
       "</table>\n"
      ],
      "text/plain": [
       "<pandas.io.formats.style.Styler at 0x7f9a48d7cc70>"
      ]
     },
     "execution_count": 35,
     "metadata": {},
     "output_type": "execute_result"
    }
   ],
   "source": [
    "corr = df_OHC.corr()\n",
    "corr.style.background_gradient(cmap='coolwarm')"
   ]
  },
  {
   "cell_type": "code",
   "execution_count": 36,
   "metadata": {},
   "outputs": [
    {
     "data": {
      "text/plain": [
       "Index(['Feat0', 'Feat1', 'Feat2', 'Feat3', 'Feat4', 'Feat5', 'Feat6', 'Feat7',\n",
       "       'Feat8', 'Feat9', 'Feat10', 'Feat11', 'PotentialBuyerHyperCrypto'],\n",
       "      dtype='object')"
      ]
     },
     "execution_count": 36,
     "metadata": {},
     "output_type": "execute_result"
    }
   ],
   "source": [
    "df_OHC.columns"
   ]
  },
  {
   "cell_type": "markdown",
   "metadata": {},
   "source": [
    "## Feature Selection "
   ]
  },
  {
   "cell_type": "code",
   "execution_count": 37,
   "metadata": {},
   "outputs": [],
   "source": [
    "all_columns = ['Feat0', 'Feat1', 'Feat2', 'Feat3', 'Feat4', 'Feat5', 'Feat6', 'Feat7',\n",
    "       'Feat8', 'Feat9', 'Feat10', 'Feat11']\n",
    "to_remove = ['Feat0', 'Feat1', 'Feat4', 'Feat6', 'Feat7']\n",
    "df_final = df_OHC.drop(to_remove, axis=1)\n",
    "# df_final = df_OHC"
   ]
  },
  {
   "cell_type": "markdown",
   "metadata": {},
   "source": [
    "## Train-Test Split "
   ]
  },
  {
   "cell_type": "code",
   "execution_count": 38,
   "metadata": {},
   "outputs": [
    {
     "data": {
      "text/html": [
       "<div>\n",
       "<style scoped>\n",
       "    .dataframe tbody tr th:only-of-type {\n",
       "        vertical-align: middle;\n",
       "    }\n",
       "\n",
       "    .dataframe tbody tr th {\n",
       "        vertical-align: top;\n",
       "    }\n",
       "\n",
       "    .dataframe thead th {\n",
       "        text-align: right;\n",
       "    }\n",
       "</style>\n",
       "<table border=\"1\" class=\"dataframe\">\n",
       "  <thead>\n",
       "    <tr style=\"text-align: right;\">\n",
       "      <th></th>\n",
       "      <th>Feat2</th>\n",
       "      <th>Feat3</th>\n",
       "      <th>Feat5</th>\n",
       "      <th>Feat8</th>\n",
       "      <th>Feat9</th>\n",
       "      <th>Feat10</th>\n",
       "      <th>Feat11</th>\n",
       "    </tr>\n",
       "  </thead>\n",
       "  <tbody>\n",
       "    <tr>\n",
       "      <th>259</th>\n",
       "      <td>0.771</td>\n",
       "      <td>0.5</td>\n",
       "      <td>0.8</td>\n",
       "      <td>0.34</td>\n",
       "      <td>0.571429</td>\n",
       "      <td>0.882883</td>\n",
       "      <td>0.7</td>\n",
       "    </tr>\n",
       "    <tr>\n",
       "      <th>1100</th>\n",
       "      <td>0.560</td>\n",
       "      <td>1.0</td>\n",
       "      <td>0.8</td>\n",
       "      <td>0.88</td>\n",
       "      <td>0.000000</td>\n",
       "      <td>0.063063</td>\n",
       "      <td>0.8</td>\n",
       "    </tr>\n",
       "    <tr>\n",
       "      <th>656</th>\n",
       "      <td>0.184</td>\n",
       "      <td>1.0</td>\n",
       "      <td>0.7</td>\n",
       "      <td>0.11</td>\n",
       "      <td>0.285714</td>\n",
       "      <td>0.277277</td>\n",
       "      <td>0.8</td>\n",
       "    </tr>\n",
       "    <tr>\n",
       "      <th>818</th>\n",
       "      <td>0.810</td>\n",
       "      <td>1.0</td>\n",
       "      <td>0.6</td>\n",
       "      <td>0.46</td>\n",
       "      <td>0.857143</td>\n",
       "      <td>0.930931</td>\n",
       "      <td>0.7</td>\n",
       "    </tr>\n",
       "    <tr>\n",
       "      <th>389</th>\n",
       "      <td>0.502</td>\n",
       "      <td>0.5</td>\n",
       "      <td>0.1</td>\n",
       "      <td>0.15</td>\n",
       "      <td>0.000000</td>\n",
       "      <td>0.432432</td>\n",
       "      <td>0.6</td>\n",
       "    </tr>\n",
       "    <tr>\n",
       "      <th>...</th>\n",
       "      <td>...</td>\n",
       "      <td>...</td>\n",
       "      <td>...</td>\n",
       "      <td>...</td>\n",
       "      <td>...</td>\n",
       "      <td>...</td>\n",
       "      <td>...</td>\n",
       "    </tr>\n",
       "    <tr>\n",
       "      <th>1129</th>\n",
       "      <td>0.667</td>\n",
       "      <td>0.0</td>\n",
       "      <td>0.9</td>\n",
       "      <td>0.83</td>\n",
       "      <td>0.142857</td>\n",
       "      <td>0.448448</td>\n",
       "      <td>0.3</td>\n",
       "    </tr>\n",
       "    <tr>\n",
       "      <th>1166</th>\n",
       "      <td>0.216</td>\n",
       "      <td>0.0</td>\n",
       "      <td>0.8</td>\n",
       "      <td>0.74</td>\n",
       "      <td>0.285714</td>\n",
       "      <td>0.652653</td>\n",
       "      <td>0.4</td>\n",
       "    </tr>\n",
       "    <tr>\n",
       "      <th>1332</th>\n",
       "      <td>0.756</td>\n",
       "      <td>1.0</td>\n",
       "      <td>0.2</td>\n",
       "      <td>0.98</td>\n",
       "      <td>0.857143</td>\n",
       "      <td>0.036036</td>\n",
       "      <td>0.8</td>\n",
       "    </tr>\n",
       "    <tr>\n",
       "      <th>882</th>\n",
       "      <td>0.441</td>\n",
       "      <td>1.0</td>\n",
       "      <td>0.7</td>\n",
       "      <td>0.11</td>\n",
       "      <td>0.857143</td>\n",
       "      <td>0.668669</td>\n",
       "      <td>0.3</td>\n",
       "    </tr>\n",
       "    <tr>\n",
       "      <th>1162</th>\n",
       "      <td>0.500</td>\n",
       "      <td>1.0</td>\n",
       "      <td>0.6</td>\n",
       "      <td>1.00</td>\n",
       "      <td>0.428571</td>\n",
       "      <td>0.397397</td>\n",
       "      <td>0.8</td>\n",
       "    </tr>\n",
       "  </tbody>\n",
       "</table>\n",
       "<p>1168 rows × 7 columns</p>\n",
       "</div>"
      ],
      "text/plain": [
       "      Feat2  Feat3  Feat5  Feat8     Feat9    Feat10  Feat11\n",
       "259   0.771    0.5    0.8   0.34  0.571429  0.882883     0.7\n",
       "1100  0.560    1.0    0.8   0.88  0.000000  0.063063     0.8\n",
       "656   0.184    1.0    0.7   0.11  0.285714  0.277277     0.8\n",
       "818   0.810    1.0    0.6   0.46  0.857143  0.930931     0.7\n",
       "389   0.502    0.5    0.1   0.15  0.000000  0.432432     0.6\n",
       "...     ...    ...    ...    ...       ...       ...     ...\n",
       "1129  0.667    0.0    0.9   0.83  0.142857  0.448448     0.3\n",
       "1166  0.216    0.0    0.8   0.74  0.285714  0.652653     0.4\n",
       "1332  0.756    1.0    0.2   0.98  0.857143  0.036036     0.8\n",
       "882   0.441    1.0    0.7   0.11  0.857143  0.668669     0.3\n",
       "1162  0.500    1.0    0.6   1.00  0.428571  0.397397     0.8\n",
       "\n",
       "[1168 rows x 7 columns]"
      ]
     },
     "execution_count": 38,
     "metadata": {},
     "output_type": "execute_result"
    }
   ],
   "source": [
    "X = df_final.loc[:, df_final.columns != 'PotentialBuyerHyperCrypto']\n",
    "y = df_final['PotentialBuyerHyperCrypto']\n",
    "X_train, X_test, y_train, y_test = train_test_split(X, y, test_size=0.2, random_state=42)\n",
    "X_train"
   ]
  },
  {
   "cell_type": "markdown",
   "metadata": {},
   "source": [
    "# Best Classifier"
   ]
  },
  {
   "cell_type": "markdown",
   "metadata": {},
   "source": [
    "## Decision Trees"
   ]
  },
  {
   "cell_type": "code",
   "execution_count": 39,
   "metadata": {},
   "outputs": [
    {
     "name": "stdout",
     "output_type": "stream",
     "text": [
      "Accuracy of Decison Trees is 0.9828767123287672 and F1 Score is 0.9578509772222062\n"
     ]
    },
    {
     "name": "stderr",
     "output_type": "stream",
     "text": [
      "/Users/work/opt/anaconda3/lib/python3.9/site-packages/sklearn/utils/deprecation.py:87: FutureWarning: Function plot_confusion_matrix is deprecated; Function `plot_confusion_matrix` is deprecated in 1.0 and will be removed in 1.2. Use one of the class methods: ConfusionMatrixDisplay.from_predictions or ConfusionMatrixDisplay.from_estimator.\n",
      "  warnings.warn(msg, category=FutureWarning)\n"
     ]
    },
    {
     "data": {
      "image/png": "[encoded data removed]",
      "text/plain": [
       "<Figure size 432x288 with 1 Axes>"
      ]
     },
     "metadata": {
      "needs_background": "light"
     },
     "output_type": "display_data"
    },
    {
     "data": {
      "image/png": "[encoded data removed]",
      "text/plain": [
       "<Figure size 432x288 with 2 Axes>"
      ]
     },
     "metadata": {
      "needs_background": "light"
     },
     "output_type": "display_data"
    }
   ],
   "source": [
    "clf = tree.DecisionTreeClassifier(random_state=42, max_depth=10, criterion='entropy',\n",
    "                                  splitter='best', min_samples_split=5, min_samples_leaf=3,\n",
    "                                 max_features=None)\n",
    "clf = clf.fit(X_train, y_train)\n",
    "y_pred = clf.predict(X_test)\n",
    "accuracy_dt = accuracy_score(y_test, y_pred)\n",
    "f1Score_dt = f1_score(y_test, y_pred, average='macro')\n",
    "print(f\"Accuracy of Decison Trees is {accuracy_dt} and F1 Score is {f1Score_dt}\")\n",
    "svc_disp = RocCurveDisplay.from_estimator(clf, X_test, y_test)\n",
    "plot_confusion_matrix(clf, X_test, y_test)  \n",
    "plt.show()"
   ]
  },
  {
   "cell_type": "markdown",
   "metadata": {},
   "source": [
    "# Tested Models"
   ]
  },
  {
   "cell_type": "markdown",
   "metadata": {},
   "source": [
    "## Random Forest "
   ]
  },
  {
   "cell_type": "code",
   "execution_count": 40,
   "metadata": {},
   "outputs": [
    {
     "name": "stdout",
     "output_type": "stream",
     "text": [
      "Accuracy of Random Forest is 0.976027397260274 and F1 Score is 0.9409913681110886\n"
     ]
    },
    {
     "name": "stderr",
     "output_type": "stream",
     "text": [
      "/Users/work/opt/anaconda3/lib/python3.9/site-packages/sklearn/utils/deprecation.py:87: FutureWarning: Function plot_confusion_matrix is deprecated; Function `plot_confusion_matrix` is deprecated in 1.0 and will be removed in 1.2. Use one of the class methods: ConfusionMatrixDisplay.from_predictions or ConfusionMatrixDisplay.from_estimator.\n",
      "  warnings.warn(msg, category=FutureWarning)\n"
     ]
    },
    {
     "data": {
      "image/png": "[encoded data removed]",
      "text/plain": [
       "<Figure size 432x288 with 1 Axes>"
      ]
     },
     "metadata": {
      "needs_background": "light"
     },
     "output_type": "display_data"
    },
    {
     "data": {
      "image/png": "[encoded data removed]",
      "text/plain": [
       "<Figure size 432x288 with 2 Axes>"
      ]
     },
     "metadata": {
      "needs_background": "light"
     },
     "output_type": "display_data"
    }
   ],
   "source": [
    "rfc = RandomForestClassifier(random_state=42, max_depth=10, min_samples_split=5, min_samples_leaf=3,\n",
    "                            n_estimators=100)\n",
    "rfc.fit(X_train, y_train)\n",
    "y_pred = rfc.predict(X_test)\n",
    "accuracy_rf = accuracy_score(y_test, y_pred)\n",
    "f1Score_rf = f1_score(y_test, y_pred, average='macro')\n",
    "print(f\"Accuracy of Random Forest is {accuracy_rf} and F1 Score is {f1Score_rf}\")\n",
    "svc_disp = RocCurveDisplay.from_estimator(rfc, X_test, y_test)\n",
    "plot_confusion_matrix(rfc, X_test, y_test)  \n",
    "plt.show()"
   ]
  },
  {
   "cell_type": "markdown",
   "metadata": {},
   "source": [
    "##  Gradient Boosted Trees  "
   ]
  },
  {
   "cell_type": "code",
   "execution_count": 41,
   "metadata": {},
   "outputs": [
    {
     "name": "stdout",
     "output_type": "stream",
     "text": [
      "Accuracy of Gradient Boosted Trees is 0.976027397260274 and F1 Score is 0.9409913681110886\n"
     ]
    },
    {
     "name": "stderr",
     "output_type": "stream",
     "text": [
      "/Users/work/opt/anaconda3/lib/python3.9/site-packages/sklearn/utils/deprecation.py:87: FutureWarning: Function plot_confusion_matrix is deprecated; Function `plot_confusion_matrix` is deprecated in 1.0 and will be removed in 1.2. Use one of the class methods: ConfusionMatrixDisplay.from_predictions or ConfusionMatrixDisplay.from_estimator.\n",
      "  warnings.warn(msg, category=FutureWarning)\n"
     ]
    },
    {
     "data": {
      "image/png": "[encoded data removed]",
      "text/plain": [
       "<Figure size 432x288 with 1 Axes>"
      ]
     },
     "metadata": {
      "needs_background": "light"
     },
     "output_type": "display_data"
    },
    {
     "data": {
      "image/png": "[encoded data removed]",
      "text/plain": [
       "<Figure size 432x288 with 2 Axes>"
      ]
     },
     "metadata": {
      "needs_background": "light"
     },
     "output_type": "display_data"
    }
   ],
   "source": [
    "clf = GradientBoostingClassifier(n_estimators=100, learning_rate=0.2, max_depth=10, min_samples_split=5, min_samples_leaf=3, random_state=42).fit(X_train, y_train)\n",
    "y_pred = clf.predict(X_test)\n",
    "accuracy_gb = accuracy_score(y_test, y_pred)\n",
    "f1Score_db = f1_score(y_test, y_pred, average='macro')\n",
    "print(f\"Accuracy of Gradient Boosted Trees is {accuracy_gb} and F1 Score is {f1Score_db}\")\n",
    "svc_disp = RocCurveDisplay.from_estimator(clf, X_test, y_test)\n",
    "plot_confusion_matrix(clf, X_test, y_test)  \n",
    "plt.show()"
   ]
  },
  {
   "cell_type": "markdown",
   "metadata": {},
   "source": [
    "## SVM"
   ]
  },
  {
   "cell_type": "code",
   "execution_count": 42,
   "metadata": {},
   "outputs": [
    {
     "name": "stdout",
     "output_type": "stream",
     "text": [
      "Accuracy of SVM is 0.9212328767123288 and F1 Score is 0.7691699604743083\n"
     ]
    },
    {
     "name": "stderr",
     "output_type": "stream",
     "text": [
      "/Users/work/opt/anaconda3/lib/python3.9/site-packages/sklearn/utils/deprecation.py:87: FutureWarning: Function plot_confusion_matrix is deprecated; Function `plot_confusion_matrix` is deprecated in 1.0 and will be removed in 1.2. Use one of the class methods: ConfusionMatrixDisplay.from_predictions or ConfusionMatrixDisplay.from_estimator.\n",
      "  warnings.warn(msg, category=FutureWarning)\n"
     ]
    },
    {
     "data": {
      "image/png": "[encoded data removed]",
      "text/plain": [
       "<Figure size 432x288 with 1 Axes>"
      ]
     },
     "metadata": {
      "needs_background": "light"
     },
     "output_type": "display_data"
    },
    {
     "data": {
      "image/png": "[encoded data removed]",
      "text/plain": [
       "<Figure size 432x288 with 2 Axes>"
      ]
     },
     "metadata": {
      "needs_background": "light"
     },
     "output_type": "display_data"
    }
   ],
   "source": [
    "svc = SVC(random_state=42)\n",
    "svc.fit(X_train, y_train)\n",
    "y_pred = svc.predict(X_test)\n",
    "accuracy_svc = accuracy_score(y_test, y_pred)\n",
    "f1Score_svc = f1_score(y_test, y_pred, average='macro')\n",
    "print(f\"Accuracy of SVM is {accuracy_svc} and F1 Score is {f1Score_svc}\")\n",
    "svc_disp = RocCurveDisplay.from_estimator(svc, X_test, y_test)\n",
    "plot_confusion_matrix(svc, X_test, y_test)  \n",
    "plt.show()"
   ]
  },
  {
   "cell_type": "markdown",
   "metadata": {},
   "source": [
    "## Neural Network "
   ]
  },
  {
   "cell_type": "code",
   "execution_count": 43,
   "metadata": {},
   "outputs": [
    {
     "name": "stdout",
     "output_type": "stream",
     "text": [
      "Accuracy of Neural Network is 0.8904109589041096 and F1 Score is 0.6839826839826839\n"
     ]
    },
    {
     "name": "stderr",
     "output_type": "stream",
     "text": [
      "/Users/work/opt/anaconda3/lib/python3.9/site-packages/sklearn/neural_network/_multilayer_perceptron.py:702: ConvergenceWarning: Stochastic Optimizer: Maximum iterations (200) reached and the optimization hasn't converged yet.\n",
      "  warnings.warn(\n",
      "/Users/work/opt/anaconda3/lib/python3.9/site-packages/sklearn/utils/deprecation.py:87: FutureWarning: Function plot_confusion_matrix is deprecated; Function `plot_confusion_matrix` is deprecated in 1.0 and will be removed in 1.2. Use one of the class methods: ConfusionMatrixDisplay.from_predictions or ConfusionMatrixDisplay.from_estimator.\n",
      "  warnings.warn(msg, category=FutureWarning)\n"
     ]
    },
    {
     "data": {
      "image/png": "[encoded data removed]",
      "text/plain": [
       "<Figure size 432x288 with 1 Axes>"
      ]
     },
     "metadata": {
      "needs_background": "light"
     },
     "output_type": "display_data"
    },
    {
     "data": {
      "image/png": "[encoded data removed]",
      "text/plain": [
       "<Figure size 432x288 with 2 Axes>"
      ]
     },
     "metadata": {
      "needs_background": "light"
     },
     "output_type": "display_data"
    }
   ],
   "source": [
    "from sklearn.neural_network import MLPClassifier\n",
    "clf = MLPClassifier()\n",
    "clf = clf.fit(X_train, y_train)\n",
    "y_pred = clf.predict(X_test)\n",
    "accuracy_nn = accuracy_score(y_test, y_pred)\n",
    "f1Score_nn = f1_score(y_test, y_pred, average='macro')\n",
    "print(f\"Accuracy of Neural Network is {accuracy_nn} and F1 Score is {f1Score_nn}\")\n",
    "svc_disp = RocCurveDisplay.from_estimator(clf, X_test, y_test)\n",
    "plot_confusion_matrix(clf, X_test, y_test)  \n",
    "plt.show()"
   ]
  },
  {
   "cell_type": "markdown",
   "metadata": {},
   "source": [
    "## Logistic Regression "
   ]
  },
  {
   "cell_type": "code",
   "execution_count": 44,
   "metadata": {},
   "outputs": [
    {
     "name": "stdout",
     "output_type": "stream",
     "text": [
      "Accuracy of Logistic Regression is 0.8767123287671232 and F1 Score is 0.6062921348314607\n"
     ]
    },
    {
     "name": "stderr",
     "output_type": "stream",
     "text": [
      "/Users/work/opt/anaconda3/lib/python3.9/site-packages/sklearn/utils/deprecation.py:87: FutureWarning: Function plot_confusion_matrix is deprecated; Function `plot_confusion_matrix` is deprecated in 1.0 and will be removed in 1.2. Use one of the class methods: ConfusionMatrixDisplay.from_predictions or ConfusionMatrixDisplay.from_estimator.\n",
      "  warnings.warn(msg, category=FutureWarning)\n"
     ]
    },
    {
     "data": {
      "image/png": "[encoded data removed]",
      "text/plain": [
       "<Figure size 432x288 with 1 Axes>"
      ]
     },
     "metadata": {
      "needs_background": "light"
     },
     "output_type": "display_data"
    },
    {
     "data": {
      "image/png": "[encoded data removed]",
      "text/plain": [
       "<Figure size 432x288 with 2 Axes>"
      ]
     },
     "metadata": {
      "needs_background": "light"
     },
     "output_type": "display_data"
    }
   ],
   "source": [
    "clf = LogisticRegression(random_state=42, solver='lbfgs', max_iter=100).fit(X_train, y_train)\n",
    "y_pred = clf.predict(X_test)\n",
    "accuracy_lr = accuracy_score(y_test, y_pred)\n",
    "f1Score_lr = f1_score(y_test, y_pred, average='macro')\n",
    "print(f\"Accuracy of Logistic Regression is {accuracy_lr} and F1 Score is {f1Score_lr}\")\n",
    "svc_disp = RocCurveDisplay.from_estimator(clf, X_test, y_test)\n",
    "plot_confusion_matrix(clf, X_test, y_test)  \n",
    "plt.show()"
   ]
  },
  {
   "cell_type": "code",
   "execution_count": 22,
   "metadata": {},
   "outputs": [
    {
     "name": "stdout",
     "output_type": "stream",
     "text": [
      "Accuracy of Gradient Boosted Trees is 0.976027397260274 and F1 Score is 0.9409913681110886\n",
      "Accuracy of Decision Tree is 0.9828767123287672 and F1 Score is 0.9578509772222062\n",
      "Accuracy of Random Forest is 0.976027397260274 and F1 Score is 0.9409913681110886\n",
      "Accuracy of SVM is 0.9212328767123288 and F1 Score is 0.7691699604743083\n",
      "Accuracy of Neural Network is 0.9041095890410958 and F1 Score is 0.7234848484848485\n",
      "Accuracy of Logistic Regression is 0.8767123287671232 and F1 Score is 0.6062921348314607\n"
     ]
    }
   ],
   "source": [
    "print(f\"Accuracy of Gradient Boosted Trees is {accuracy_gb} and F1 Score is {f1Score_db}\")\n",
    "print(f\"Accuracy of Decision Tree is {accuracy_dt} and F1 Score is {f1Score_dt}\")\n",
    "print(f\"Accuracy of Random Forest is {accuracy_rf} and F1 Score is {f1Score_rf}\")\n",
    "print(f\"Accuracy of SVM is {accuracy_svc} and F1 Score is {f1Score_svc}\")\n",
    "print(f\"Accuracy of Neural Network is {accuracy_nn} and F1 Score is {f1Score_nn}\")\n",
    "print(f\"Accuracy of Logistic Regression is {accuracy_lr} and F1 Score is {f1Score_lr}\")"
   ]
  },
  {
   "cell_type": "code",
   "execution_count": null,
   "metadata": {},
   "outputs": [],
   "source": []
  },
  {
   "cell_type": "code",
   "execution_count": null,
   "metadata": {},
   "outputs": [],
   "source": []
  },
  {
   "cell_type": "code",
   "execution_count": null,
   "metadata": {},
   "outputs": [],
   "source": []
  },
  {
   "cell_type": "code",
   "execution_count": 23,
   "metadata": {},
   "outputs": [
    {
     "name": "stdout",
     "output_type": "stream",
     "text": [
      "Requirement already satisfied: scikit-learn in /Users/work/opt/anaconda3/lib/python3.9/site-packages (1.1.1)\n",
      "Requirement already satisfied: joblib>=1.0.0 in /Users/work/opt/anaconda3/lib/python3.9/site-packages (from scikit-learn) (1.1.0)\n",
      "Requirement already satisfied: threadpoolctl>=2.0.0 in /Users/work/opt/anaconda3/lib/python3.9/site-packages (from scikit-learn) (2.2.0)\n",
      "Requirement already satisfied: numpy>=1.17.3 in /Users/work/opt/anaconda3/lib/python3.9/site-packages (from scikit-learn) (1.20.3)\n",
      "Requirement already satisfied: scipy>=1.3.2 in /Users/work/opt/anaconda3/lib/python3.9/site-packages (from scikit-learn) (1.7.1)\n",
      "Note: you may need to restart the kernel to use updated packages.\n"
     ]
    }
   ],
   "source": [
    "pip install --upgrade scikit-learn"
   ]
  },
  {
   "cell_type": "code",
   "execution_count": null,
   "metadata": {},
   "outputs": [],
   "source": []
  },
  {
   "cell_type": "code",
   "execution_count": null,
   "metadata": {},
   "outputs": [],
   "source": []
  },
  {
   "cell_type": "code",
   "execution_count": null,
   "metadata": {},
   "outputs": [],
   "source": []
  }
 ],
 "metadata": {
  "kernelspec": {
   "display_name": "Python 3 (ipykernel)",
   "language": "python",
   "name": "python3"
  },
  "language_info": {
   "codemirror_mode": {
    "name": "ipython",
    "version": 3
   },
   "file_extension": ".py",
   "mimetype": "text/x-python",
   "name": "python",
   "nbconvert_exporter": "python",
   "pygments_lexer": "ipython3",
   "version": "3.9.7"
  }
 },
 "nbformat": 4,
 "nbformat_minor": 4
}
